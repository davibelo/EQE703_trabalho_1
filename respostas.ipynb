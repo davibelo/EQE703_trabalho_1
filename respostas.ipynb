{
 "cells": [
  {
   "cell_type": "markdown",
   "metadata": {},
   "source": [
    "Métodos Matemáticos Aplicados  EQE-703 1/2024    11/05/2024   J.Luiz <br>\n",
    "Trabalho 1 : Matrizes, Sistemas Lineares, Formas Quadráticas, Autovetores e Autovalores <br>"
   ]
  },
  {
   "cell_type": "code",
   "execution_count": 1,
   "metadata": {},
   "outputs": [],
   "source": [
    "import numpy as np\n",
    "from src.functions import *\n",
    "import matplotlib.pyplot as plt\n",
    "\n",
    "# Set the maximum number of columns to display\n",
    "pd.set_option('display.max_columns', None)  # None means unlimited"
   ]
  },
  {
   "cell_type": "markdown",
   "metadata": {},
   "source": [
    "Resposta Questão 1. Item (i):"
   ]
  },
  {
   "cell_type": "code",
   "execution_count": 2,
   "metadata": {},
   "outputs": [
    {
     "name": "stdout",
     "output_type": "stream",
     "text": [
      "A = \n"
     ]
    },
    {
     "data": {
      "text/html": [
       "<div>\n",
       "<style scoped>\n",
       "    .dataframe tbody tr th:only-of-type {\n",
       "        vertical-align: middle;\n",
       "    }\n",
       "\n",
       "    .dataframe tbody tr th {\n",
       "        vertical-align: top;\n",
       "    }\n",
       "\n",
       "    .dataframe thead th {\n",
       "        text-align: right;\n",
       "    }\n",
       "</style>\n",
       "<table border=\"1\" class=\"dataframe\">\n",
       "  <thead>\n",
       "    <tr style=\"text-align: right;\">\n",
       "      <th></th>\n",
       "      <th>0</th>\n",
       "      <th>1</th>\n",
       "      <th>2</th>\n",
       "      <th>3</th>\n",
       "      <th>4</th>\n",
       "      <th>5</th>\n",
       "      <th>6</th>\n",
       "      <th>7</th>\n",
       "    </tr>\n",
       "  </thead>\n",
       "  <tbody>\n",
       "    <tr>\n",
       "      <th>0</th>\n",
       "      <td>1</td>\n",
       "      <td>1</td>\n",
       "      <td>1</td>\n",
       "      <td>1</td>\n",
       "      <td>1</td>\n",
       "      <td>1</td>\n",
       "      <td>1</td>\n",
       "      <td>1</td>\n",
       "    </tr>\n",
       "    <tr>\n",
       "      <th>1</th>\n",
       "      <td>1</td>\n",
       "      <td>2</td>\n",
       "      <td>3</td>\n",
       "      <td>4</td>\n",
       "      <td>5</td>\n",
       "      <td>6</td>\n",
       "      <td>7</td>\n",
       "      <td>8</td>\n",
       "    </tr>\n",
       "    <tr>\n",
       "      <th>2</th>\n",
       "      <td>1</td>\n",
       "      <td>3</td>\n",
       "      <td>6</td>\n",
       "      <td>10</td>\n",
       "      <td>15</td>\n",
       "      <td>21</td>\n",
       "      <td>28</td>\n",
       "      <td>36</td>\n",
       "    </tr>\n",
       "    <tr>\n",
       "      <th>3</th>\n",
       "      <td>1</td>\n",
       "      <td>4</td>\n",
       "      <td>10</td>\n",
       "      <td>20</td>\n",
       "      <td>35</td>\n",
       "      <td>56</td>\n",
       "      <td>84</td>\n",
       "      <td>120</td>\n",
       "    </tr>\n",
       "    <tr>\n",
       "      <th>4</th>\n",
       "      <td>1</td>\n",
       "      <td>5</td>\n",
       "      <td>15</td>\n",
       "      <td>35</td>\n",
       "      <td>70</td>\n",
       "      <td>126</td>\n",
       "      <td>210</td>\n",
       "      <td>330</td>\n",
       "    </tr>\n",
       "    <tr>\n",
       "      <th>5</th>\n",
       "      <td>1</td>\n",
       "      <td>6</td>\n",
       "      <td>21</td>\n",
       "      <td>56</td>\n",
       "      <td>126</td>\n",
       "      <td>252</td>\n",
       "      <td>462</td>\n",
       "      <td>792</td>\n",
       "    </tr>\n",
       "    <tr>\n",
       "      <th>6</th>\n",
       "      <td>1</td>\n",
       "      <td>7</td>\n",
       "      <td>28</td>\n",
       "      <td>84</td>\n",
       "      <td>210</td>\n",
       "      <td>462</td>\n",
       "      <td>924</td>\n",
       "      <td>1716</td>\n",
       "    </tr>\n",
       "    <tr>\n",
       "      <th>7</th>\n",
       "      <td>1</td>\n",
       "      <td>8</td>\n",
       "      <td>36</td>\n",
       "      <td>120</td>\n",
       "      <td>330</td>\n",
       "      <td>792</td>\n",
       "      <td>1716</td>\n",
       "      <td>3432</td>\n",
       "    </tr>\n",
       "  </tbody>\n",
       "</table>\n",
       "</div>"
      ],
      "text/plain": [
       "   0  1   2    3    4    5     6     7\n",
       "0  1  1   1    1    1    1     1     1\n",
       "1  1  2   3    4    5    6     7     8\n",
       "2  1  3   6   10   15   21    28    36\n",
       "3  1  4  10   20   35   56    84   120\n",
       "4  1  5  15   35   70  126   210   330\n",
       "5  1  6  21   56  126  252   462   792\n",
       "6  1  7  28   84  210  462   924  1716\n",
       "7  1  8  36  120  330  792  1716  3432"
      ]
     },
     "metadata": {},
     "output_type": "display_data"
    },
    {
     "name": "stdout",
     "output_type": "stream",
     "text": [
      "B^T = \n"
     ]
    },
    {
     "data": {
      "text/html": [
       "<div>\n",
       "<style scoped>\n",
       "    .dataframe tbody tr th:only-of-type {\n",
       "        vertical-align: middle;\n",
       "    }\n",
       "\n",
       "    .dataframe tbody tr th {\n",
       "        vertical-align: top;\n",
       "    }\n",
       "\n",
       "    .dataframe thead th {\n",
       "        text-align: right;\n",
       "    }\n",
       "</style>\n",
       "<table border=\"1\" class=\"dataframe\">\n",
       "  <thead>\n",
       "    <tr style=\"text-align: right;\">\n",
       "      <th></th>\n",
       "      <th>0</th>\n",
       "      <th>1</th>\n",
       "      <th>2</th>\n",
       "      <th>3</th>\n",
       "      <th>4</th>\n",
       "      <th>5</th>\n",
       "      <th>6</th>\n",
       "      <th>7</th>\n",
       "    </tr>\n",
       "  </thead>\n",
       "  <tbody>\n",
       "    <tr>\n",
       "      <th>0</th>\n",
       "      <td>11111</td>\n",
       "      <td>22222</td>\n",
       "      <td>33333</td>\n",
       "      <td>44444</td>\n",
       "      <td>44444</td>\n",
       "      <td>33333</td>\n",
       "      <td>22222</td>\n",
       "      <td>11111</td>\n",
       "    </tr>\n",
       "  </tbody>\n",
       "</table>\n",
       "</div>"
      ],
      "text/plain": [
       "       0      1      2      3      4      5      6      7\n",
       "0  11111  22222  33333  44444  44444  33333  22222  11111"
      ]
     },
     "metadata": {},
     "output_type": "display_data"
    },
    {
     "name": "stdout",
     "output_type": "stream",
     "text": [
      "C = \n",
      "1000000.0\n",
      "\n",
      "\n",
      "E = \n"
     ]
    },
    {
     "data": {
      "text/html": [
       "<div>\n",
       "<style scoped>\n",
       "    .dataframe tbody tr th:only-of-type {\n",
       "        vertical-align: middle;\n",
       "    }\n",
       "\n",
       "    .dataframe tbody tr th {\n",
       "        vertical-align: top;\n",
       "    }\n",
       "\n",
       "    .dataframe thead th {\n",
       "        text-align: right;\n",
       "    }\n",
       "</style>\n",
       "<table border=\"1\" class=\"dataframe\">\n",
       "  <thead>\n",
       "    <tr style=\"text-align: right;\">\n",
       "      <th></th>\n",
       "      <th>0</th>\n",
       "      <th>1</th>\n",
       "      <th>2</th>\n",
       "      <th>3</th>\n",
       "      <th>4</th>\n",
       "      <th>5</th>\n",
       "      <th>6</th>\n",
       "      <th>7</th>\n",
       "    </tr>\n",
       "  </thead>\n",
       "  <tbody>\n",
       "    <tr>\n",
       "      <th>0</th>\n",
       "      <td>4</td>\n",
       "      <td>0</td>\n",
       "      <td>4</td>\n",
       "      <td>0</td>\n",
       "      <td>-3</td>\n",
       "      <td>-4</td>\n",
       "      <td>3</td>\n",
       "      <td>1</td>\n",
       "    </tr>\n",
       "    <tr>\n",
       "      <th>1</th>\n",
       "      <td>-2</td>\n",
       "      <td>-4</td>\n",
       "      <td>2</td>\n",
       "      <td>3</td>\n",
       "      <td>-2</td>\n",
       "      <td>2</td>\n",
       "      <td>0</td>\n",
       "      <td>-1</td>\n",
       "    </tr>\n",
       "    <tr>\n",
       "      <th>2</th>\n",
       "      <td>1</td>\n",
       "      <td>3</td>\n",
       "      <td>-3</td>\n",
       "      <td>-4</td>\n",
       "      <td>-3</td>\n",
       "      <td>0</td>\n",
       "      <td>-2</td>\n",
       "      <td>3</td>\n",
       "    </tr>\n",
       "    <tr>\n",
       "      <th>3</th>\n",
       "      <td>0</td>\n",
       "      <td>0</td>\n",
       "      <td>0</td>\n",
       "      <td>-1</td>\n",
       "      <td>1</td>\n",
       "      <td>4</td>\n",
       "      <td>1</td>\n",
       "      <td>0</td>\n",
       "    </tr>\n",
       "    <tr>\n",
       "      <th>4</th>\n",
       "      <td>3</td>\n",
       "      <td>1</td>\n",
       "      <td>4</td>\n",
       "      <td>3</td>\n",
       "      <td>-2</td>\n",
       "      <td>0</td>\n",
       "      <td>3</td>\n",
       "      <td>2</td>\n",
       "    </tr>\n",
       "    <tr>\n",
       "      <th>5</th>\n",
       "      <td>2</td>\n",
       "      <td>2</td>\n",
       "      <td>4</td>\n",
       "      <td>-4</td>\n",
       "      <td>-3</td>\n",
       "      <td>0</td>\n",
       "      <td>-4</td>\n",
       "      <td>0</td>\n",
       "    </tr>\n",
       "  </tbody>\n",
       "</table>\n",
       "</div>"
      ],
      "text/plain": [
       "   0  1  2  3  4  5  6  7\n",
       "0  4  0  4  0 -3 -4  3  1\n",
       "1 -2 -4  2  3 -2  2  0 -1\n",
       "2  1  3 -3 -4 -3  0 -2  3\n",
       "3  0  0  0 -1  1  4  1  0\n",
       "4  3  1  4  3 -2  0  3  2\n",
       "5  2  2  4 -4 -3  0 -4  0"
      ]
     },
     "metadata": {},
     "output_type": "display_data"
    },
    {
     "name": "stdout",
     "output_type": "stream",
     "text": [
      "\n",
      "\n"
     ]
    }
   ],
   "source": [
    "A = np.array([[1, 1, 1, 1, 1, 1, 1, 1], [1, 2, 3, 4, 5, 6, 7, 8],\n",
    "              [1, 3, 6, 10, 15, 21, 28, 36], [1, 4, 10, 20, 35, 56, 84, 120],\n",
    "              [1, 5, 15, 35, 70, 126, 210, 330],\n",
    "              [1, 6, 21, 56, 126, 252, 462, 792],\n",
    "              [1, 7, 28, 84, 210, 462, 924, 1716],\n",
    "              [1, 8, 36, 120, 330, 792, 1716, 3432]])\n",
    "print('A = ' )\n",
    "display_as_dataframe(A)\n",
    "\n",
    "B = np.array([\n",
    "    [11111],\n",
    "    [22222],\n",
    "    [33333],\n",
    "    [44444],\n",
    "    [44444],\n",
    "    [33333],\n",
    "    [22222],\n",
    "    [11111]\n",
    "])\n",
    "print('B^T = ')\n",
    "display_as_dataframe(B.T)\n",
    "\n",
    "C = 10E5\n",
    "print('C = ')\n",
    "print(C)\n",
    "print('\\n')\n",
    "\n",
    "E = np.array([[4, 0, 4, 0, -3, -4, 3, 1], [-2, -4, 2, 3, -2, 2, 0, -1],\n",
    "              [1, 3, -3, -4, -3, 0, -2, 3], [0, 0, 0, -1, 1, 4, 1, 0],\n",
    "              [3, 1, 4, 3, -2, 0, 3, 2], [2, 2, 4, -4, -3, 0, -4, 0]])\n",
    "\n",
    "print('E = ')\n",
    "display_as_dataframe(E)\n",
    "print('\\n')"
   ]
  },
  {
   "cell_type": "code",
   "execution_count": 3,
   "metadata": {},
   "outputs": [
    {
     "name": "stdout",
     "output_type": "stream",
     "text": [
      "Execution Time for schmidt_machine: 2734.2 microseconds\n",
      "P = \n"
     ]
    },
    {
     "data": {
      "text/html": [
       "<div>\n",
       "<style scoped>\n",
       "    .dataframe tbody tr th:only-of-type {\n",
       "        vertical-align: middle;\n",
       "    }\n",
       "\n",
       "    .dataframe tbody tr th {\n",
       "        vertical-align: top;\n",
       "    }\n",
       "\n",
       "    .dataframe thead th {\n",
       "        text-align: right;\n",
       "    }\n",
       "</style>\n",
       "<table border=\"1\" class=\"dataframe\">\n",
       "  <thead>\n",
       "    <tr style=\"text-align: right;\">\n",
       "      <th></th>\n",
       "      <th>0</th>\n",
       "      <th>1</th>\n",
       "      <th>2</th>\n",
       "      <th>3</th>\n",
       "      <th>4</th>\n",
       "      <th>5</th>\n",
       "      <th>6</th>\n",
       "      <th>7</th>\n",
       "    </tr>\n",
       "  </thead>\n",
       "  <tbody>\n",
       "    <tr>\n",
       "      <th>0</th>\n",
       "      <td>0.353553</td>\n",
       "      <td>-0.621937</td>\n",
       "      <td>0.827579</td>\n",
       "      <td>-0.918925</td>\n",
       "      <td>0.700893</td>\n",
       "      <td>-0.350573</td>\n",
       "      <td>0.117650</td>\n",
       "      <td>-0.024271</td>\n",
       "    </tr>\n",
       "    <tr>\n",
       "      <th>1</th>\n",
       "      <td>0.353553</td>\n",
       "      <td>-0.520175</td>\n",
       "      <td>0.489399</td>\n",
       "      <td>-0.124726</td>\n",
       "      <td>-0.483267</td>\n",
       "      <td>0.694842</td>\n",
       "      <td>-0.447862</td>\n",
       "      <td>0.151017</td>\n",
       "    </tr>\n",
       "    <tr>\n",
       "      <th>2</th>\n",
       "      <td>0.353553</td>\n",
       "      <td>-0.418413</td>\n",
       "      <td>0.227293</td>\n",
       "      <td>0.213274</td>\n",
       "      <td>-0.356596</td>\n",
       "      <td>-0.204861</td>\n",
       "      <td>0.612446</td>\n",
       "      <td>-0.407745</td>\n",
       "    </tr>\n",
       "    <tr>\n",
       "      <th>3</th>\n",
       "      <td>0.353553</td>\n",
       "      <td>-0.316650</td>\n",
       "      <td>0.041262</td>\n",
       "      <td>0.238141</td>\n",
       "      <td>0.085604</td>\n",
       "      <td>-0.396740</td>\n",
       "      <td>-0.204580</td>\n",
       "      <td>0.617795</td>\n",
       "    </tr>\n",
       "    <tr>\n",
       "      <th>4</th>\n",
       "      <td>0.353553</td>\n",
       "      <td>-0.214888</td>\n",
       "      <td>-0.068693</td>\n",
       "      <td>0.092940</td>\n",
       "      <td>0.275758</td>\n",
       "      <td>0.124859</td>\n",
       "      <td>-0.354996</td>\n",
       "      <td>-0.566312</td>\n",
       "    </tr>\n",
       "    <tr>\n",
       "      <th>5</th>\n",
       "      <td>0.353553</td>\n",
       "      <td>-0.113126</td>\n",
       "      <td>-0.102574</td>\n",
       "      <td>-0.079266</td>\n",
       "      <td>0.074012</td>\n",
       "      <td>0.325073</td>\n",
       "      <td>0.447010</td>\n",
       "      <td>0.313650</td>\n",
       "    </tr>\n",
       "    <tr>\n",
       "      <th>6</th>\n",
       "      <td>0.353553</td>\n",
       "      <td>-0.011363</td>\n",
       "      <td>-0.060380</td>\n",
       "      <td>-0.135411</td>\n",
       "      <td>-0.231764</td>\n",
       "      <td>-0.264725</td>\n",
       "      <td>-0.203941</td>\n",
       "      <td>-0.097082</td>\n",
       "    </tr>\n",
       "    <tr>\n",
       "      <th>7</th>\n",
       "      <td>0.353553</td>\n",
       "      <td>0.090399</td>\n",
       "      <td>0.057889</td>\n",
       "      <td>0.067569</td>\n",
       "      <td>0.074024</td>\n",
       "      <td>0.059848</td>\n",
       "      <td>0.034687</td>\n",
       "      <td>0.012944</td>\n",
       "    </tr>\n",
       "  </tbody>\n",
       "</table>\n",
       "</div>"
      ],
      "text/plain": [
       "          0         1         2         3         4         5         6  \\\n",
       "0  0.353553 -0.621937  0.827579 -0.918925  0.700893 -0.350573  0.117650   \n",
       "1  0.353553 -0.520175  0.489399 -0.124726 -0.483267  0.694842 -0.447862   \n",
       "2  0.353553 -0.418413  0.227293  0.213274 -0.356596 -0.204861  0.612446   \n",
       "3  0.353553 -0.316650  0.041262  0.238141  0.085604 -0.396740 -0.204580   \n",
       "4  0.353553 -0.214888 -0.068693  0.092940  0.275758  0.124859 -0.354996   \n",
       "5  0.353553 -0.113126 -0.102574 -0.079266  0.074012  0.325073  0.447010   \n",
       "6  0.353553 -0.011363 -0.060380 -0.135411 -0.231764 -0.264725 -0.203941   \n",
       "7  0.353553  0.090399  0.057889  0.067569  0.074024  0.059848  0.034687   \n",
       "\n",
       "          7  \n",
       "0 -0.024271  \n",
       "1  0.151017  \n",
       "2 -0.407745  \n",
       "3  0.617795  \n",
       "4 -0.566312  \n",
       "5  0.313650  \n",
       "6 -0.097082  \n",
       "7  0.012944  "
      ]
     },
     "metadata": {},
     "output_type": "display_data"
    }
   ],
   "source": [
    "P = schmidt_machine(A, A)\n",
    "print('P = ')\n",
    "display_as_dataframe(P)"
   ]
  },
  {
   "cell_type": "markdown",
   "metadata": {},
   "source": [
    "Resposta Questão 1. Item (ii):"
   ]
  },
  {
   "cell_type": "code",
   "execution_count": 4,
   "metadata": {},
   "outputs": [
    {
     "name": "stdout",
     "output_type": "stream",
     "text": [
      "D = \n"
     ]
    },
    {
     "data": {
      "text/html": [
       "<div>\n",
       "<style scoped>\n",
       "    .dataframe tbody tr th:only-of-type {\n",
       "        vertical-align: middle;\n",
       "    }\n",
       "\n",
       "    .dataframe tbody tr th {\n",
       "        vertical-align: top;\n",
       "    }\n",
       "\n",
       "    .dataframe thead th {\n",
       "        text-align: right;\n",
       "    }\n",
       "</style>\n",
       "<table border=\"1\" class=\"dataframe\">\n",
       "  <thead>\n",
       "    <tr style=\"text-align: right;\">\n",
       "      <th></th>\n",
       "      <th>0</th>\n",
       "      <th>1</th>\n",
       "      <th>2</th>\n",
       "      <th>3</th>\n",
       "      <th>4</th>\n",
       "      <th>5</th>\n",
       "      <th>6</th>\n",
       "      <th>7</th>\n",
       "    </tr>\n",
       "  </thead>\n",
       "  <tbody>\n",
       "    <tr>\n",
       "      <th>0</th>\n",
       "      <td>1608.625</td>\n",
       "      <td>0.000000</td>\n",
       "      <td>0.000000</td>\n",
       "      <td>0.000000</td>\n",
       "      <td>0.00000</td>\n",
       "      <td>0.000000</td>\n",
       "      <td>0.000000</td>\n",
       "      <td>0.00000</td>\n",
       "    </tr>\n",
       "    <tr>\n",
       "      <th>1</th>\n",
       "      <td>0.000</td>\n",
       "      <td>27.437515</td>\n",
       "      <td>0.000000</td>\n",
       "      <td>0.000000</td>\n",
       "      <td>0.00000</td>\n",
       "      <td>0.000000</td>\n",
       "      <td>0.000000</td>\n",
       "      <td>0.00000</td>\n",
       "    </tr>\n",
       "    <tr>\n",
       "      <th>2</th>\n",
       "      <td>0.000</td>\n",
       "      <td>0.000000</td>\n",
       "      <td>3.871581</td>\n",
       "      <td>0.000000</td>\n",
       "      <td>0.00000</td>\n",
       "      <td>0.000000</td>\n",
       "      <td>0.000000</td>\n",
       "      <td>0.00000</td>\n",
       "    </tr>\n",
       "    <tr>\n",
       "      <th>3</th>\n",
       "      <td>0.000</td>\n",
       "      <td>0.000000</td>\n",
       "      <td>0.000000</td>\n",
       "      <td>1.523812</td>\n",
       "      <td>0.00000</td>\n",
       "      <td>0.000000</td>\n",
       "      <td>0.000000</td>\n",
       "      <td>0.00000</td>\n",
       "    </tr>\n",
       "    <tr>\n",
       "      <th>4</th>\n",
       "      <td>0.000</td>\n",
       "      <td>0.000000</td>\n",
       "      <td>0.000000</td>\n",
       "      <td>0.000000</td>\n",
       "      <td>0.48821</td>\n",
       "      <td>0.000000</td>\n",
       "      <td>0.000000</td>\n",
       "      <td>0.00000</td>\n",
       "    </tr>\n",
       "    <tr>\n",
       "      <th>5</th>\n",
       "      <td>0.000</td>\n",
       "      <td>0.000000</td>\n",
       "      <td>0.000000</td>\n",
       "      <td>0.000000</td>\n",
       "      <td>0.00000</td>\n",
       "      <td>0.081486</td>\n",
       "      <td>0.000000</td>\n",
       "      <td>0.00000</td>\n",
       "    </tr>\n",
       "    <tr>\n",
       "      <th>6</th>\n",
       "      <td>0.000</td>\n",
       "      <td>0.000000</td>\n",
       "      <td>0.000000</td>\n",
       "      <td>0.000000</td>\n",
       "      <td>0.00000</td>\n",
       "      <td>0.000000</td>\n",
       "      <td>0.006705</td>\n",
       "      <td>0.00000</td>\n",
       "    </tr>\n",
       "    <tr>\n",
       "      <th>7</th>\n",
       "      <td>0.000</td>\n",
       "      <td>0.000000</td>\n",
       "      <td>0.000000</td>\n",
       "      <td>0.000000</td>\n",
       "      <td>0.00000</td>\n",
       "      <td>0.000000</td>\n",
       "      <td>0.000000</td>\n",
       "      <td>0.00022</td>\n",
       "    </tr>\n",
       "  </tbody>\n",
       "</table>\n",
       "</div>"
      ],
      "text/plain": [
       "          0          1         2         3        4         5         6  \\\n",
       "0  1608.625   0.000000  0.000000  0.000000  0.00000  0.000000  0.000000   \n",
       "1     0.000  27.437515  0.000000  0.000000  0.00000  0.000000  0.000000   \n",
       "2     0.000   0.000000  3.871581  0.000000  0.00000  0.000000  0.000000   \n",
       "3     0.000   0.000000  0.000000  1.523812  0.00000  0.000000  0.000000   \n",
       "4     0.000   0.000000  0.000000  0.000000  0.48821  0.000000  0.000000   \n",
       "5     0.000   0.000000  0.000000  0.000000  0.00000  0.081486  0.000000   \n",
       "6     0.000   0.000000  0.000000  0.000000  0.00000  0.000000  0.006705   \n",
       "7     0.000   0.000000  0.000000  0.000000  0.00000  0.000000  0.000000   \n",
       "\n",
       "         7  \n",
       "0  0.00000  \n",
       "1  0.00000  \n",
       "2  0.00000  \n",
       "3  0.00000  \n",
       "4  0.00000  \n",
       "5  0.00000  \n",
       "6  0.00000  \n",
       "7  0.00022  "
      ]
     },
     "metadata": {},
     "output_type": "display_data"
    }
   ],
   "source": [
    "D = (P.T @ A) @ P\n",
    "D = set_zero_if_below_tolerance(D)\n",
    "print('D = ')\n",
    "display_as_dataframe(D)"
   ]
  },
  {
   "cell_type": "markdown",
   "metadata": {},
   "source": [
    "Resposta Questão 1. Item (iii):"
   ]
  },
  {
   "cell_type": "code",
   "execution_count": 5,
   "metadata": {},
   "outputs": [
    {
     "data": {
      "text/plain": [
       "'PD'"
      ]
     },
     "execution_count": 5,
     "metadata": {},
     "output_type": "execute_result"
    }
   ],
   "source": [
    "classify_diagonal(D)"
   ]
  },
  {
   "cell_type": "markdown",
   "metadata": {},
   "source": [
    "Resposta Questão 1. Item (iv):"
   ]
  },
  {
   "cell_type": "code",
   "execution_count": 6,
   "metadata": {},
   "outputs": [
    {
     "data": {
      "text/html": [
       "<div>\n",
       "<style scoped>\n",
       "    .dataframe tbody tr th:only-of-type {\n",
       "        vertical-align: middle;\n",
       "    }\n",
       "\n",
       "    .dataframe tbody tr th {\n",
       "        vertical-align: top;\n",
       "    }\n",
       "\n",
       "    .dataframe thead th {\n",
       "        text-align: right;\n",
       "    }\n",
       "</style>\n",
       "<table border=\"1\" class=\"dataframe\">\n",
       "  <thead>\n",
       "    <tr style=\"text-align: right;\">\n",
       "      <th></th>\n",
       "      <th>0</th>\n",
       "      <th>1</th>\n",
       "      <th>2</th>\n",
       "      <th>3</th>\n",
       "      <th>4</th>\n",
       "    </tr>\n",
       "  </thead>\n",
       "  <tbody>\n",
       "    <tr>\n",
       "      <th>0</th>\n",
       "      <td>1</td>\n",
       "      <td>1</td>\n",
       "      <td>1</td>\n",
       "      <td>1</td>\n",
       "      <td>1</td>\n",
       "    </tr>\n",
       "    <tr>\n",
       "      <th>1</th>\n",
       "      <td>1</td>\n",
       "      <td>2</td>\n",
       "      <td>3</td>\n",
       "      <td>4</td>\n",
       "      <td>5</td>\n",
       "    </tr>\n",
       "    <tr>\n",
       "      <th>2</th>\n",
       "      <td>1</td>\n",
       "      <td>3</td>\n",
       "      <td>6</td>\n",
       "      <td>10</td>\n",
       "      <td>15</td>\n",
       "    </tr>\n",
       "    <tr>\n",
       "      <th>3</th>\n",
       "      <td>1</td>\n",
       "      <td>4</td>\n",
       "      <td>10</td>\n",
       "      <td>20</td>\n",
       "      <td>35</td>\n",
       "    </tr>\n",
       "    <tr>\n",
       "      <th>4</th>\n",
       "      <td>1</td>\n",
       "      <td>5</td>\n",
       "      <td>15</td>\n",
       "      <td>35</td>\n",
       "      <td>70</td>\n",
       "    </tr>\n",
       "  </tbody>\n",
       "</table>\n",
       "</div>"
      ],
      "text/plain": [
       "   0  1   2   3   4\n",
       "0  1  1   1   1   1\n",
       "1  1  2   3   4   5\n",
       "2  1  3   6  10  15\n",
       "3  1  4  10  20  35\n",
       "4  1  5  15  35  70"
      ]
     },
     "metadata": {},
     "output_type": "display_data"
    }
   ],
   "source": [
    "S = A[:5, :5]\n",
    "display_as_dataframe(S)"
   ]
  },
  {
   "cell_type": "code",
   "execution_count": 7,
   "metadata": {},
   "outputs": [
    {
     "name": "stdout",
     "output_type": "stream",
     "text": [
      "Execution Time for determinant_with_pivoting: 190.7 microseconds\n",
      "Determinant is:  1.0\n",
      "Resultant matrix: \n",
      "[[1. 1. 1. 1. 1.]\n",
      " [0. 1. 2. 3. 4.]\n",
      " [0. 0. 1. 3. 6.]\n",
      " [0. 0. 0. 1. 4.]\n",
      " [0. 0. 0. 0. 1.]]\n"
     ]
    }
   ],
   "source": [
    "det, matrix = determinant_with_pivoting(S)\n",
    "print('Determinant is: ', det)\n",
    "print('Resultant matrix: ')\n",
    "print(matrix)"
   ]
  },
  {
   "cell_type": "code",
   "execution_count": 8,
   "metadata": {},
   "outputs": [
    {
     "name": "stdout",
     "output_type": "stream",
     "text": [
      "Execution Time for determinant_with_numpy: 164.9 microseconds\n",
      "determinant is:  0.9999999999999998\n"
     ]
    }
   ],
   "source": [
    "det2 = determinant_with_numpy(S)\n",
    "print('determinant is: ', det2)"
   ]
  },
  {
   "cell_type": "markdown",
   "metadata": {},
   "source": [
    "Resposta Questão 1. Item (v):"
   ]
  },
  {
   "cell_type": "markdown",
   "metadata": {},
   "source": [
    "Como o caráter de A é PD, o caráter de S que é uma submatriz de A também deve ser PD"
   ]
  },
  {
   "cell_type": "code",
   "execution_count": 82,
   "metadata": {},
   "outputs": [],
   "source": [
    "# Create the identity matrix\n",
    "I = np.eye(S.shape[0])\n",
    "\n",
    "# Theta function as described\n",
    "def theta_function(lambd):\n",
    "    num = np.linalg.det(S - lambd * I)\n",
    "    den = np.linalg.det(S)\n",
    "    return num / den\n",
    "\n",
    "def plot_lambda_vs_theta(lambdas, thetas):\n",
    "    plt.figure(figsize=(8, 2))  # Smaller figure size\n",
    "    plt.plot(lambdas, thetas, label='Theta(lambda)')\n",
    "    plt.xlabel('Lambda')\n",
    "    plt.ylabel('Theta')\n",
    "    plt.title('Lambda vs Theta')\n",
    "    plt.grid(True)\n",
    "    plt.axhline(0, color='red', linestyle='--')\n",
    "    plt.legend()\n",
    "    plt.show()"
   ]
  },
  {
   "cell_type": "code",
   "execution_count": 83,
   "metadata": {},
   "outputs": [
    {
     "data": {
      "image/png": "[encoded data removed]",
      "text/plain": [
       "<Figure size 800x200 with 1 Axes>"
      ]
     },
     "metadata": {},
     "output_type": "display_data"
    }
   ],
   "source": [
    "LAMBDA_MIN = 0\n",
    "LAMBDA_MAX = 1000\n",
    "\n",
    "# Create the identity matrix\n",
    "I = np.eye(S.shape[0])\n",
    "\n",
    "# Define a range of positive real values for lambda\n",
    "positive_lambdas = np.linspace(LAMBDA_MIN, LAMBDA_MAX, 10000)\n",
    "\n",
    "# Calculate theta for each lambda\n",
    "theta_values = []\n",
    "for lambd in positive_lambdas:\n",
    "    theta = theta_function(lambd)\n",
    "    theta_values.append(theta)\n",
    "\n",
    "plot_lambda_vs_theta(positive_lambdas, theta_values)"
   ]
  },
  {
   "cell_type": "code",
   "execution_count": 94,
   "metadata": {},
   "outputs": [
    {
     "data": {
      "image/png": "[encoded data removed]",
      "text/plain": [
       "<Figure size 800x200 with 1 Axes>"
      ]
     },
     "metadata": {},
     "output_type": "display_data"
    }
   ],
   "source": [
    "LAMBDA_MIN = 0\n",
    "LAMBDA_MAX = 0.1\n",
    "\n",
    "# Create the identity matrix\n",
    "I = np.eye(S.shape[0])\n",
    "\n",
    "# Define a range of positive real values for lambda\n",
    "positive_lambdas = np.linspace(LAMBDA_MIN, LAMBDA_MAX, 10000)\n",
    "\n",
    "# Calculate theta for each lambda\n",
    "theta_values = []\n",
    "for lambd in positive_lambdas:\n",
    "    theta = theta_function(lambd)\n",
    "    theta_values.append(theta)\n",
    "\n",
    "plot_lambda_vs_theta(positive_lambdas, theta_values)"
   ]
  },
  {
   "cell_type": "code",
   "execution_count": 104,
   "metadata": {},
   "outputs": [
    {
     "data": {
      "image/png": "[encoded data removed]",
      "text/plain": [
       "<Figure size 800x200 with 1 Axes>"
      ]
     },
     "metadata": {},
     "output_type": "display_data"
    }
   ],
   "source": [
    "LAMBDA_MIN = 0.1\n",
    "LAMBDA_MAX = 0.5\n",
    "\n",
    "# Create the identity matrix\n",
    "I = np.eye(S.shape[0])\n",
    "\n",
    "# Define a range of positive real values for lambda\n",
    "positive_lambdas = np.linspace(LAMBDA_MIN, LAMBDA_MAX, 10000)\n",
    "\n",
    "# Calculate theta for each lambda\n",
    "theta_values = []\n",
    "for lambd in positive_lambdas:\n",
    "    theta = theta_function(lambd)\n",
    "    theta_values.append(theta)\n",
    "\n",
    "plot_lambda_vs_theta(positive_lambdas, theta_values)"
   ]
  },
  {
   "cell_type": "code",
   "execution_count": 113,
   "metadata": {},
   "outputs": [
    {
     "data": {
      "image/png": "[encoded data removed]",
      "text/plain": [
       "<Figure size 800x200 with 1 Axes>"
      ]
     },
     "metadata": {},
     "output_type": "display_data"
    }
   ],
   "source": [
    "LAMBDA_MIN = 0.5\n",
    "LAMBDA_MAX = 2\n",
    "\n",
    "# Create the identity matrix\n",
    "I = np.eye(S.shape[0])\n",
    "\n",
    "# Define a range of positive real values for lambda\n",
    "positive_lambdas = np.linspace(LAMBDA_MIN, LAMBDA_MAX, 10000)\n",
    "\n",
    "# Calculate theta for each lambda\n",
    "theta_values = []\n",
    "for lambd in positive_lambdas:\n",
    "    theta = theta_function(lambd)\n",
    "    theta_values.append(theta)\n",
    "\n",
    "plot_lambda_vs_theta(positive_lambdas, theta_values)"
   ]
  },
  {
   "cell_type": "code",
   "execution_count": 120,
   "metadata": {},
   "outputs": [
    {
     "data": {
      "image/png": "[encoded data removed]",
      "text/plain": [
       "<Figure size 800x200 with 1 Axes>"
      ]
     },
     "metadata": {},
     "output_type": "display_data"
    }
   ],
   "source": [
    "LAMBDA_MIN = 2\n",
    "LAMBDA_MAX = 8\n",
    "\n",
    "# Create the identity matrix\n",
    "I = np.eye(S.shape[0])\n",
    "\n",
    "# Define a range of positive real values for lambda\n",
    "positive_lambdas = np.linspace(LAMBDA_MIN, LAMBDA_MAX, 10000)\n",
    "\n",
    "# Calculate theta for each lambda\n",
    "theta_values = []\n",
    "for lambd in positive_lambdas:\n",
    "    theta = theta_function(lambd)\n",
    "    theta_values.append(theta)\n",
    "\n",
    "plot_lambda_vs_theta(positive_lambdas, theta_values)"
   ]
  },
  {
   "cell_type": "code",
   "execution_count": 127,
   "metadata": {},
   "outputs": [
    {
     "data": {
      "image/png": "[encoded data removed]",
      "text/plain": [
       "<Figure size 800x200 with 1 Axes>"
      ]
     },
     "metadata": {},
     "output_type": "display_data"
    }
   ],
   "source": [
    "LAMBDA_MIN = 80\n",
    "LAMBDA_MAX = 100\n",
    "\n",
    "# Create the identity matrix\n",
    "I = np.eye(S.shape[0])\n",
    "\n",
    "# Define a range of positive real values for lambda\n",
    "positive_lambdas = np.linspace(LAMBDA_MIN, LAMBDA_MAX, 10000)\n",
    "\n",
    "# Calculate theta for each lambda\n",
    "theta_values = []\n",
    "for lambd in positive_lambdas:\n",
    "    theta = theta_function(lambd)\n",
    "    theta_values.append(theta)\n",
    "\n",
    "plot_lambda_vs_theta(positive_lambdas, theta_values)"
   ]
  },
  {
   "cell_type": "code",
   "execution_count": 133,
   "metadata": {},
   "outputs": [
    {
     "name": "stdout",
     "output_type": "stream",
     "text": [
      "Eigenvalues in ascending order: ['0.0108353591', '0.1812419015', '1.0000000000', '5.5174879093', '92.2904348302']\n"
     ]
    }
   ],
   "source": [
    "# Find eigenvalues\n",
    "eigenvalues = np.linalg.eigvals(S)\n",
    "\n",
    "# Format eigenvalues as decimals\n",
    "formatted_eigenvalues = [\"{:.10f}\".format(e) for e in eigenvalues]\n",
    "\n",
    "# Sort eigenvalues in ascending order\n",
    "sorted_eigenvalues = sorted(formatted_eigenvalues, key=float)\n",
    "\n",
    "print(\"Eigenvalues in ascending order:\", sorted_eigenvalues)"
   ]
  },
  {
   "cell_type": "code",
   "execution_count": 134,
   "metadata": {},
   "outputs": [
    {
     "name": "stdout",
     "output_type": "stream",
     "text": [
      "Roots found in ascending order: [0.0108353591, 0.1812419015, 1.0, 5.5174879093, 92.2904348302]\n"
     ]
    }
   ],
   "source": [
    "# Theta function as described\n",
    "def theta_function(lambd):\n",
    "    num = np.linalg.det(S - lambd * I)\n",
    "    den = np.linalg.det(S)\n",
    "    return num / den\n",
    "\n",
    "# Numerical derivative of theta function\n",
    "def theta_derivative(lambd, h=1e-5):\n",
    "    return (theta_function(lambd + h) - theta_function(lambd - h)) / (2 * h)\n",
    "\n",
    "# Newton-Raphson method to find the root, with tolerance\n",
    "def newton_raphson_method(x0, tol=1e-6, max_iter=1000):\n",
    "    x = x0\n",
    "    for i in range(max_iter):\n",
    "        f_val = theta_function(x)\n",
    "        df_val = theta_derivative(x)\n",
    "        if df_val == 0:\n",
    "            raise ValueError(\"Derivative is zero. Newton-Raphson method fails.\")\n",
    "        x_new = x - f_val / df_val\n",
    "        if abs(x_new - x) < tol:\n",
    "            return round(x_new, 10)\n",
    "        x = x_new\n",
    "    return round(x,10)\n",
    "\n",
    "# Function to find all roots in a given range, with an initial guess and tolerance\n",
    "def find_all_roots_newton(start, end, num_initial_guesses, tol=1e-6):\n",
    "    guesses = np.linspace(start, end, num_initial_guesses)\n",
    "    roots = []\n",
    "    for guess in guesses:\n",
    "        try:\n",
    "            root = newton_raphson_method(guess, tol)\n",
    "            if root not in roots:  # Simple check to avoid duplicates\n",
    "                roots.append(root)\n",
    "        except ValueError:\n",
    "            continue\n",
    "    return roots\n",
    "\n",
    "roots = find_all_roots_newton(0, 100, 2000)\n",
    "print(\"Roots found in ascending order:\", sorted(roots, key=float))"
   ]
  },
  {
   "cell_type": "markdown",
   "metadata": {},
   "source": [
    "O autovetor é uma solução para o Sistema Homogênio (S-lambda*I)X = 0 <br>"
   ]
  },
  {
   "cell_type": "code",
   "execution_count": 138,
   "metadata": {},
   "outputs": [
    {
     "name": "stdout",
     "output_type": "stream",
     "text": [
      "lambda:  0.1812419015\n",
      "[[ 0.8187581  1.         1.         1.         1.       ]\n",
      " [ 1.         1.8187581  3.         4.         5.       ]\n",
      " [ 1.         3.         5.8187581 10.        15.       ]\n",
      " [ 1.         4.        10.        19.8187581 35.       ]\n",
      " [ 1.         5.        15.        35.        69.8187581]]\n"
     ]
    }
   ],
   "source": [
    "lambd = float(sorted_eigenvalues[1])\n",
    "print('lambda: ',lambd)\n",
    "I = np.eye(S.shape[0])\n",
    "A_ = S-lambd*I\n",
    "print(A_)"
   ]
  },
  {
   "cell_type": "markdown",
   "metadata": {},
   "source": [
    "Realizando o método de triangulação da matriz A"
   ]
  },
  {
   "cell_type": "code",
   "execution_count": 139,
   "metadata": {},
   "outputs": [
    {
     "name": "stdout",
     "output_type": "stream",
     "text": [
      "Execution Time for determinant_with_pivoting: 178.1 microseconds\n",
      "2.3237475029244143e-09\n"
     ]
    },
    {
     "data": {
      "text/html": [
       "<div>\n",
       "<style scoped>\n",
       "    .dataframe tbody tr th:only-of-type {\n",
       "        vertical-align: middle;\n",
       "    }\n",
       "\n",
       "    .dataframe tbody tr th {\n",
       "        vertical-align: top;\n",
       "    }\n",
       "\n",
       "    .dataframe thead th {\n",
       "        text-align: right;\n",
       "    }\n",
       "</style>\n",
       "<table border=\"1\" class=\"dataframe\">\n",
       "  <thead>\n",
       "    <tr style=\"text-align: right;\">\n",
       "      <th></th>\n",
       "      <th>0</th>\n",
       "      <th>1</th>\n",
       "      <th>2</th>\n",
       "      <th>3</th>\n",
       "      <th>4</th>\n",
       "    </tr>\n",
       "  </thead>\n",
       "  <tbody>\n",
       "    <tr>\n",
       "      <th>0</th>\n",
       "      <td>0.818758</td>\n",
       "      <td>1.000000</td>\n",
       "      <td>1.000000</td>\n",
       "      <td>1.000000</td>\n",
       "      <td>1.000000</td>\n",
       "    </tr>\n",
       "    <tr>\n",
       "      <th>1</th>\n",
       "      <td>0.000000</td>\n",
       "      <td>0.597396</td>\n",
       "      <td>1.778638</td>\n",
       "      <td>2.778638</td>\n",
       "      <td>3.778638</td>\n",
       "    </tr>\n",
       "    <tr>\n",
       "      <th>2</th>\n",
       "      <td>0.000000</td>\n",
       "      <td>0.000000</td>\n",
       "      <td>0.000000</td>\n",
       "      <td>0.505750</td>\n",
       "      <td>2.528432</td>\n",
       "    </tr>\n",
       "    <tr>\n",
       "      <th>3</th>\n",
       "      <td>0.000000</td>\n",
       "      <td>0.000000</td>\n",
       "      <td>0.000000</td>\n",
       "      <td>6.039619</td>\n",
       "      <td>18.034822</td>\n",
       "    </tr>\n",
       "    <tr>\n",
       "      <th>4</th>\n",
       "      <td>0.000000</td>\n",
       "      <td>0.000000</td>\n",
       "      <td>0.000000</td>\n",
       "      <td>0.000000</td>\n",
       "      <td>0.000000</td>\n",
       "    </tr>\n",
       "  </tbody>\n",
       "</table>\n",
       "</div>"
      ],
      "text/plain": [
       "          0         1         2         3          4\n",
       "0  0.818758  1.000000  1.000000  1.000000   1.000000\n",
       "1  0.000000  0.597396  1.778638  2.778638   3.778638\n",
       "2  0.000000  0.000000  0.000000  0.505750   2.528432\n",
       "3  0.000000  0.000000  0.000000  6.039619  18.034822\n",
       "4  0.000000  0.000000  0.000000  0.000000   0.000000"
      ]
     },
     "metadata": {},
     "output_type": "display_data"
    }
   ],
   "source": [
    "d, m = determinant_with_pivoting(A_)\n",
    "print(d)\n",
    "m = set_zero_if_below_tolerance(m)\n",
    "display_as_dataframe(m)"
   ]
  },
  {
   "cell_type": "code",
   "execution_count": 137,
   "metadata": {},
   "outputs": [],
   "source": [
    "# as solucoes desse sistema é o autovetor referente aquele autovalor escolhido,\n",
    "# TODO: necesário corrigir a funcao do tratorzao  "
   ]
  }
 ],
 "metadata": {
  "kernelspec": {
   "display_name": "Python 3",
   "language": "python",
   "name": "python3"
  },
  "language_info": {
   "codemirror_mode": {
    "name": "ipython",
    "version": 3
   },
   "file_extension": ".py",
   "mimetype": "text/x-python",
   "name": "python",
   "nbconvert_exporter": "python",
   "pygments_lexer": "ipython3",
   "version": "3.11.1"
  }
 },
 "nbformat": 4,
 "nbformat_minor": 2
}
