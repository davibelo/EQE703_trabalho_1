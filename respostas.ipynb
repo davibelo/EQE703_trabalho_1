{
 "cells": [
  {
   "cell_type": "markdown",
   "metadata": {},
   "source": [
    "Métodos Matemáticos Aplicados  EQE-703 1/2024    11/05/2024   J.Luiz <br>\n",
    "Trabalho 1 : Matrizes, Sistemas Lineares, Formas Quadráticas, Autovetores e Autovalores <br>"
   ]
  },
  {
   "cell_type": "code",
   "execution_count": null,
   "metadata": {},
   "outputs": [],
   "source": [
    "import numpy as np\n",
    "from src.functions import *\n",
    "import matplotlib.pyplot as plt\n",
    "\n",
    "# Set the maximum number of columns to display\n",
    "pd.set_option('display.max_columns', None)  # None means unlimited"
   ]
  },
  {
   "cell_type": "markdown",
   "metadata": {},
   "source": [
    "Resposta Questão 1. Item (i):"
   ]
  },
  {
   "cell_type": "code",
   "execution_count": null,
   "metadata": {},
   "outputs": [],
   "source": [
    "A = np.array([[1, 1, 1, 1, 1, 1, 1, 1], [1, 2, 3, 4, 5, 6, 7, 8],\n",
    "              [1, 3, 6, 10, 15, 21, 28, 36], [1, 4, 10, 20, 35, 56, 84, 120],\n",
    "              [1, 5, 15, 35, 70, 126, 210, 330],\n",
    "              [1, 6, 21, 56, 126, 252, 462, 792],\n",
    "              [1, 7, 28, 84, 210, 462, 924, 1716],\n",
    "              [1, 8, 36, 120, 330, 792, 1716, 3432]])\n",
    "print('A = ' )\n",
    "display_as_dataframe(A)\n",
    "\n",
    "B = np.array([\n",
    "    [11111],\n",
    "    [22222],\n",
    "    [33333],\n",
    "    [44444],\n",
    "    [44444],\n",
    "    [33333],\n",
    "    [22222],\n",
    "    [11111]\n",
    "])\n",
    "print('B^T = ')\n",
    "display_as_dataframe(B.T)\n",
    "\n",
    "C = 10E5\n",
    "print('C = ')\n",
    "print(C)\n",
    "print('\\n')\n",
    "\n",
    "E = np.array([[4, 0, 4, 0, -3, -4, 3, 1], [-2, -4, 2, 3, -2, 2, 0, -1],\n",
    "              [1, 3, -3, -4, -3, 0, -2, 3], [0, 0, 0, -1, 1, 4, 1, 0],\n",
    "              [3, 1, 4, 3, -2, 0, 3, 2], [2, 2, 4, -4, -3, 0, -4, 0]])\n",
    "\n",
    "print('E = ')\n",
    "display_as_dataframe(E)\n",
    "print('\\n')"
   ]
  },
  {
   "cell_type": "code",
   "execution_count": null,
   "metadata": {},
   "outputs": [],
   "source": [
    "P = schmidt_machine(A, A)\n",
    "print('P = ')\n",
    "display_as_dataframe(P)"
   ]
  },
  {
   "cell_type": "markdown",
   "metadata": {},
   "source": [
    "Resposta Questão 1. Item (ii):"
   ]
  },
  {
   "cell_type": "code",
   "execution_count": null,
   "metadata": {},
   "outputs": [],
   "source": [
    "D = (P.T @ A) @ P\n",
    "D = set_zero_if_below_tolerance(D)\n",
    "print('D = ')\n",
    "display_as_dataframe(D)"
   ]
  },
  {
   "cell_type": "markdown",
   "metadata": {},
   "source": [
    "Resposta Questão 1. Item (iii):"
   ]
  },
  {
   "cell_type": "code",
   "execution_count": null,
   "metadata": {},
   "outputs": [],
   "source": [
    "classify_diagonal(D)"
   ]
  },
  {
   "cell_type": "markdown",
   "metadata": {},
   "source": [
    "Resposta Questão 1. Item (iv):"
   ]
  },
  {
   "cell_type": "code",
   "execution_count": null,
   "metadata": {},
   "outputs": [],
   "source": [
    "S = A[:5, :5]\n",
    "display_as_dataframe(S)"
   ]
  },
  {
   "cell_type": "code",
   "execution_count": null,
   "metadata": {},
   "outputs": [],
   "source": [
    "det, matrix = determinant_with_pivoting(S)\n",
    "print('determinant is: ', det)\n",
    "print('resultant matrix: ', matrix)"
   ]
  },
  {
   "cell_type": "code",
   "execution_count": null,
   "metadata": {},
   "outputs": [],
   "source": [
    "det2 = determinant_with_numpy(S)\n",
    "print('determinant is: ', det2)"
   ]
  },
  {
   "cell_type": "markdown",
   "metadata": {},
   "source": [
    "Resposta Questão 1. Item (v):"
   ]
  },
  {
   "cell_type": "markdown",
   "metadata": {},
   "source": [
    "Como o caráter de A é PD, o caráter de S que é uma submatriz de A também deve ser PD"
   ]
  },
  {
   "cell_type": "code",
   "execution_count": null,
   "metadata": {},
   "outputs": [],
   "source": [
    "# Create the identity matrix\n",
    "I = np.eye(S.shape[0])\n",
    "\n",
    "# Theta function as described\n",
    "def theta_function(lambd):\n",
    "    num = np.linalg.det(S - lambd * I)\n",
    "    den = np.linalg.det(S)\n",
    "    return num / den"
   ]
  },
  {
   "cell_type": "code",
   "execution_count": null,
   "metadata": {},
   "outputs": [],
   "source": [
    "LAMBDA_MIN = 0\n",
    "LAMBDA_MAX = 1000\n",
    "\n",
    "# Create the identity matrix\n",
    "I = np.eye(S.shape[0])\n",
    "\n",
    "# Define a range of positive real values for lambda\n",
    "positive_lambdas = np.linspace(LAMBDA_MIN, LAMBDA_MAX, 10000)\n",
    "\n",
    "# Calculate theta for each lambda\n",
    "theta_values = []\n",
    "for lambd in positive_lambdas:\n",
    "    theta = theta_function(lambd)\n",
    "    theta_values.append(theta)\n",
    "\n",
    "# Plot lambda vs theta\n",
    "plt.plot(positive_lambdas, theta_values)\n",
    "plt.xlabel('Lambda')\n",
    "plt.ylabel('Theta')\n",
    "plt.title('Lambda vs Theta')\n",
    "plt.grid(True)\n",
    "plt.axhline(0, color='red', linestyle='--')\n",
    "plt.show()"
   ]
  },
  {
   "cell_type": "code",
   "execution_count": null,
   "metadata": {},
   "outputs": [],
   "source": [
    "LAMBDA_MIN = 0\n",
    "LAMBDA_MAX = 0.1\n",
    "\n",
    "# Create the identity matrix\n",
    "I = np.eye(S.shape[0])\n",
    "\n",
    "# Define a range of positive real values for lambda\n",
    "positive_lambdas = np.linspace(LAMBDA_MIN, LAMBDA_MAX, 10000)\n",
    "\n",
    "# Calculate theta for each lambda\n",
    "theta_values = []\n",
    "for lambd in positive_lambdas:\n",
    "    theta = theta_function(lambd)\n",
    "    theta_values.append(theta)\n",
    "\n",
    "# Plot lambda vs theta\n",
    "plt.plot(positive_lambdas, theta_values)\n",
    "plt.xlabel('Lambda')\n",
    "plt.ylabel('Theta')\n",
    "plt.title('Lambda vs Theta')\n",
    "plt.grid(True)\n",
    "plt.axhline(0, color='red', linestyle='--')\n",
    "plt.show()"
   ]
  },
  {
   "cell_type": "code",
   "execution_count": null,
   "metadata": {},
   "outputs": [],
   "source": [
    "LAMBDA_MIN = 0.1\n",
    "LAMBDA_MAX = 0.5\n",
    "\n",
    "# Create the identity matrix\n",
    "I = np.eye(S.shape[0])\n",
    "\n",
    "# Define a range of positive real values for lambda\n",
    "positive_lambdas = np.linspace(LAMBDA_MIN, LAMBDA_MAX, 10000)\n",
    "\n",
    "# Calculate theta for each lambda\n",
    "theta_values = []\n",
    "for lambd in positive_lambdas:\n",
    "    theta = theta_function(lambd)\n",
    "    theta_values.append(theta)\n",
    "\n",
    "# Plot lambda vs theta\n",
    "plt.plot(positive_lambdas, theta_values)\n",
    "plt.xlabel('Lambda')\n",
    "plt.ylabel('Theta')\n",
    "plt.title('Lambda vs Theta')\n",
    "plt.grid(True)\n",
    "plt.axhline(0, color='red', linestyle='--')\n",
    "plt.show()"
   ]
  },
  {
   "cell_type": "code",
   "execution_count": null,
   "metadata": {},
   "outputs": [],
   "source": [
    "LAMBDA_MIN = 0.5\n",
    "LAMBDA_MAX = 2\n",
    "\n",
    "# Create the identity matrix\n",
    "I = np.eye(S.shape[0])\n",
    "\n",
    "# Define a range of positive real values for lambda\n",
    "positive_lambdas = np.linspace(LAMBDA_MIN, LAMBDA_MAX, 10000)\n",
    "\n",
    "# Calculate theta for each lambda\n",
    "theta_values = []\n",
    "for lambd in positive_lambdas:\n",
    "    theta = theta_function(lambd)\n",
    "    theta_values.append(theta)\n",
    "\n",
    "# Plot lambda vs theta\n",
    "plt.plot(positive_lambdas, theta_values)\n",
    "plt.xlabel('Lambda')\n",
    "plt.ylabel('Theta')\n",
    "plt.title('Lambda vs Theta')\n",
    "plt.grid(True)\n",
    "plt.axhline(0, color='red', linestyle='--')\n",
    "plt.show()"
   ]
  },
  {
   "cell_type": "code",
   "execution_count": null,
   "metadata": {},
   "outputs": [],
   "source": [
    "LAMBDA_MIN = 2\n",
    "LAMBDA_MAX = 8\n",
    "\n",
    "# Create the identity matrix\n",
    "I = np.eye(S.shape[0])\n",
    "\n",
    "# Define a range of positive real values for lambda\n",
    "positive_lambdas = np.linspace(LAMBDA_MIN, LAMBDA_MAX, 10000)\n",
    "\n",
    "# Calculate theta for each lambda\n",
    "theta_values = []\n",
    "for lambd in positive_lambdas:\n",
    "    theta = theta_function(lambd)\n",
    "    theta_values.append(theta)\n",
    "\n",
    "# Plot lambda vs theta\n",
    "plt.plot(positive_lambdas, theta_values)\n",
    "plt.xlabel('Lambda')\n",
    "plt.ylabel('Theta')\n",
    "plt.title('Lambda vs Theta')\n",
    "plt.grid(True)\n",
    "plt.axhline(0, color='red', linestyle='--')\n",
    "plt.show()"
   ]
  },
  {
   "cell_type": "code",
   "execution_count": null,
   "metadata": {},
   "outputs": [],
   "source": [
    "LAMBDA_MIN = 80\n",
    "LAMBDA_MAX = 100\n",
    "\n",
    "# Create the identity matrix\n",
    "I = np.eye(S.shape[0])\n",
    "\n",
    "# Define a range of positive real values for lambda\n",
    "positive_lambdas = np.linspace(LAMBDA_MIN, LAMBDA_MAX, 10000)\n",
    "\n",
    "# Calculate theta for each lambda\n",
    "theta_values = []\n",
    "for lambd in positive_lambdas:\n",
    "    theta = theta_function(lambd)\n",
    "    theta_values.append(theta)\n",
    "\n",
    "# Plot lambda vs theta\n",
    "plt.plot(positive_lambdas, theta_values)\n",
    "plt.xlabel('Lambda')\n",
    "plt.ylabel('Theta')\n",
    "plt.title('Lambda vs Theta')\n",
    "plt.grid(True)\n",
    "plt.axhline(0, color='red', linestyle='--')\n",
    "plt.show()"
   ]
  },
  {
   "cell_type": "code",
   "execution_count": null,
   "metadata": {},
   "outputs": [],
   "source": [
    "# Find eigenvalues\n",
    "eigenvalues = np.linalg.eigvals(S)\n",
    "\n",
    "# Format eigenvalues as decimals\n",
    "formatted_eigenvalues = [\"{:.10f}\".format(e) for e in eigenvalues]\n",
    "\n",
    "# Sort eigenvalues in ascending order\n",
    "sorted_eigenvalues = sorted(formatted_eigenvalues, key=float)\n",
    "\n",
    "print(\"Eigenvalues in ascending order:\", sorted_eigenvalues)"
   ]
  },
  {
   "cell_type": "code",
   "execution_count": null,
   "metadata": {},
   "outputs": [],
   "source": [
    "# Theta function as described\n",
    "def theta_function(lambd):\n",
    "    num = np.linalg.det(S - lambd * I)\n",
    "    den = np.linalg.det(S)\n",
    "    return num / den\n",
    "\n",
    "# Numerical derivative of theta function\n",
    "def theta_derivative(lambd, h=1e-5):\n",
    "    return (theta_function(lambd + h) - theta_function(lambd - h)) / (2 * h)\n",
    "\n",
    "# Newton-Raphson method to find the root, with tolerance\n",
    "def newton_raphson_method(x0, tol=1e-6, max_iter=1000):\n",
    "    x = x0\n",
    "    for i in range(max_iter):\n",
    "        f_val = theta_function(x)\n",
    "        df_val = theta_derivative(x)\n",
    "        if df_val == 0:\n",
    "            raise ValueError(\"Derivative is zero. Newton-Raphson method fails.\")\n",
    "        x_new = x - f_val / df_val\n",
    "        if abs(x_new - x) < tol:\n",
    "            return round(x_new, 10)\n",
    "        x = x_new\n",
    "    return round(x,10)\n",
    "\n",
    "# Function to find all roots in a given range, with an initial guess and tolerance\n",
    "def find_all_roots_newton(start, end, num_initial_guesses, tol=1e-6):\n",
    "    guesses = np.linspace(start, end, num_initial_guesses)\n",
    "    roots = []\n",
    "    for guess in guesses:\n",
    "        try:\n",
    "            root = newton_raphson_method(guess, tol)\n",
    "            if root not in roots:  # Simple check to avoid duplicates\n",
    "                roots.append(root)\n",
    "        except ValueError:\n",
    "            continue\n",
    "    return roots\n",
    "\n",
    "roots = find_all_roots_newton(0, 100, 2000)\n",
    "print(\"Roots found:\", sorted(roots, key=float))"
   ]
  },
  {
   "cell_type": "markdown",
   "metadata": {},
   "source": [
    "O autovetor é uma solução para o Sistema Homogênio (S-lambda*I)X = 0 <br>"
   ]
  },
  {
   "cell_type": "code",
   "execution_count": null,
   "metadata": {},
   "outputs": [],
   "source": [
    "lambd = float(sorted_eigenvalues[1])\n",
    "print('lambda: ',lambd)\n",
    "I = np.eye(S.shape[0])\n",
    "A = S-lambd*I\n",
    "print(A)"
   ]
  },
  {
   "cell_type": "markdown",
   "metadata": {},
   "source": [
    "Realizando o método de triangulação da matriz A"
   ]
  },
  {
   "cell_type": "code",
   "execution_count": null,
   "metadata": {},
   "outputs": [],
   "source": [
    ", A_ = determinant_with_pivoting(A)\n",
    "print(A_)"
   ]
  }
 ],
 "metadata": {
  "kernelspec": {
   "display_name": "Python 3",
   "language": "python",
   "name": "python3"
  },
  "language_info": {
   "codemirror_mode": {
    "name": "ipython",
    "version": 3
   },
   "file_extension": ".py",
   "mimetype": "text/x-python",
   "name": "python",
   "nbconvert_exporter": "python",
   "pygments_lexer": "ipython3",
   "version": "3.11.1"
  }
 },
 "nbformat": 4,
 "nbformat_minor": 2
}
