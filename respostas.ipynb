{
 "cells": [
  {
   "cell_type": "markdown",
   "metadata": {},
   "source": [
    "Métodos Matemáticos Aplicados  EQE-703 1/2024    11/05/2024   J.Luiz <br>\n",
    "Trabalho 1 : Matrizes, Sistemas Lineares, Formas Quadráticas, Autovetores e Autovalores <br>"
   ]
  },
  {
   "cell_type": "code",
   "execution_count": 1,
   "metadata": {},
   "outputs": [],
   "source": [
    "import numpy as np\n",
    "from src.functions import *\n",
    "import matplotlib.pyplot as plt\n",
    "\n",
    "# Set the maximum number of columns to display\n",
    "pd.set_option('display.max_columns', None)  # None means unlimited"
   ]
  },
  {
   "cell_type": "markdown",
   "metadata": {},
   "source": [
    "Resposta Questão 1. Item (i):"
   ]
  },
  {
   "cell_type": "code",
   "execution_count": 2,
   "metadata": {},
   "outputs": [
    {
     "name": "stdout",
     "output_type": "stream",
     "text": [
      "A = \n"
     ]
    },
    {
     "data": {
      "text/html": [
       "<div>\n",
       "<style scoped>\n",
       "    .dataframe tbody tr th:only-of-type {\n",
       "        vertical-align: middle;\n",
       "    }\n",
       "\n",
       "    .dataframe tbody tr th {\n",
       "        vertical-align: top;\n",
       "    }\n",
       "\n",
       "    .dataframe thead th {\n",
       "        text-align: right;\n",
       "    }\n",
       "</style>\n",
       "<table border=\"1\" class=\"dataframe\">\n",
       "  <thead>\n",
       "    <tr style=\"text-align: right;\">\n",
       "      <th></th>\n",
       "      <th>0</th>\n",
       "      <th>1</th>\n",
       "      <th>2</th>\n",
       "      <th>3</th>\n",
       "      <th>4</th>\n",
       "      <th>5</th>\n",
       "      <th>6</th>\n",
       "      <th>7</th>\n",
       "    </tr>\n",
       "  </thead>\n",
       "  <tbody>\n",
       "    <tr>\n",
       "      <th>0</th>\n",
       "      <td>1</td>\n",
       "      <td>1</td>\n",
       "      <td>1</td>\n",
       "      <td>1</td>\n",
       "      <td>1</td>\n",
       "      <td>1</td>\n",
       "      <td>1</td>\n",
       "      <td>1</td>\n",
       "    </tr>\n",
       "    <tr>\n",
       "      <th>1</th>\n",
       "      <td>1</td>\n",
       "      <td>2</td>\n",
       "      <td>3</td>\n",
       "      <td>4</td>\n",
       "      <td>5</td>\n",
       "      <td>6</td>\n",
       "      <td>7</td>\n",
       "      <td>8</td>\n",
       "    </tr>\n",
       "    <tr>\n",
       "      <th>2</th>\n",
       "      <td>1</td>\n",
       "      <td>3</td>\n",
       "      <td>6</td>\n",
       "      <td>10</td>\n",
       "      <td>15</td>\n",
       "      <td>21</td>\n",
       "      <td>28</td>\n",
       "      <td>36</td>\n",
       "    </tr>\n",
       "    <tr>\n",
       "      <th>3</th>\n",
       "      <td>1</td>\n",
       "      <td>4</td>\n",
       "      <td>10</td>\n",
       "      <td>20</td>\n",
       "      <td>35</td>\n",
       "      <td>56</td>\n",
       "      <td>84</td>\n",
       "      <td>120</td>\n",
       "    </tr>\n",
       "    <tr>\n",
       "      <th>4</th>\n",
       "      <td>1</td>\n",
       "      <td>5</td>\n",
       "      <td>15</td>\n",
       "      <td>35</td>\n",
       "      <td>70</td>\n",
       "      <td>126</td>\n",
       "      <td>210</td>\n",
       "      <td>330</td>\n",
       "    </tr>\n",
       "    <tr>\n",
       "      <th>5</th>\n",
       "      <td>1</td>\n",
       "      <td>6</td>\n",
       "      <td>21</td>\n",
       "      <td>56</td>\n",
       "      <td>126</td>\n",
       "      <td>252</td>\n",
       "      <td>462</td>\n",
       "      <td>792</td>\n",
       "    </tr>\n",
       "    <tr>\n",
       "      <th>6</th>\n",
       "      <td>1</td>\n",
       "      <td>7</td>\n",
       "      <td>28</td>\n",
       "      <td>84</td>\n",
       "      <td>210</td>\n",
       "      <td>462</td>\n",
       "      <td>924</td>\n",
       "      <td>1716</td>\n",
       "    </tr>\n",
       "    <tr>\n",
       "      <th>7</th>\n",
       "      <td>1</td>\n",
       "      <td>8</td>\n",
       "      <td>36</td>\n",
       "      <td>120</td>\n",
       "      <td>330</td>\n",
       "      <td>792</td>\n",
       "      <td>1716</td>\n",
       "      <td>3432</td>\n",
       "    </tr>\n",
       "  </tbody>\n",
       "</table>\n",
       "</div>"
      ],
      "text/plain": [
       "   0  1   2    3    4    5     6     7\n",
       "0  1  1   1    1    1    1     1     1\n",
       "1  1  2   3    4    5    6     7     8\n",
       "2  1  3   6   10   15   21    28    36\n",
       "3  1  4  10   20   35   56    84   120\n",
       "4  1  5  15   35   70  126   210   330\n",
       "5  1  6  21   56  126  252   462   792\n",
       "6  1  7  28   84  210  462   924  1716\n",
       "7  1  8  36  120  330  792  1716  3432"
      ]
     },
     "metadata": {},
     "output_type": "display_data"
    },
    {
     "name": "stdout",
     "output_type": "stream",
     "text": [
      "B^T = \n"
     ]
    },
    {
     "data": {
      "text/html": [
       "<div>\n",
       "<style scoped>\n",
       "    .dataframe tbody tr th:only-of-type {\n",
       "        vertical-align: middle;\n",
       "    }\n",
       "\n",
       "    .dataframe tbody tr th {\n",
       "        vertical-align: top;\n",
       "    }\n",
       "\n",
       "    .dataframe thead th {\n",
       "        text-align: right;\n",
       "    }\n",
       "</style>\n",
       "<table border=\"1\" class=\"dataframe\">\n",
       "  <thead>\n",
       "    <tr style=\"text-align: right;\">\n",
       "      <th></th>\n",
       "      <th>0</th>\n",
       "      <th>1</th>\n",
       "      <th>2</th>\n",
       "      <th>3</th>\n",
       "      <th>4</th>\n",
       "      <th>5</th>\n",
       "      <th>6</th>\n",
       "      <th>7</th>\n",
       "    </tr>\n",
       "  </thead>\n",
       "  <tbody>\n",
       "    <tr>\n",
       "      <th>0</th>\n",
       "      <td>11111</td>\n",
       "      <td>22222</td>\n",
       "      <td>33333</td>\n",
       "      <td>44444</td>\n",
       "      <td>44444</td>\n",
       "      <td>33333</td>\n",
       "      <td>22222</td>\n",
       "      <td>11111</td>\n",
       "    </tr>\n",
       "  </tbody>\n",
       "</table>\n",
       "</div>"
      ],
      "text/plain": [
       "       0      1      2      3      4      5      6      7\n",
       "0  11111  22222  33333  44444  44444  33333  22222  11111"
      ]
     },
     "metadata": {},
     "output_type": "display_data"
    },
    {
     "name": "stdout",
     "output_type": "stream",
     "text": [
      "C = \n",
      "1000000.0\n",
      "\n",
      "\n",
      "E = \n"
     ]
    },
    {
     "data": {
      "text/html": [
       "<div>\n",
       "<style scoped>\n",
       "    .dataframe tbody tr th:only-of-type {\n",
       "        vertical-align: middle;\n",
       "    }\n",
       "\n",
       "    .dataframe tbody tr th {\n",
       "        vertical-align: top;\n",
       "    }\n",
       "\n",
       "    .dataframe thead th {\n",
       "        text-align: right;\n",
       "    }\n",
       "</style>\n",
       "<table border=\"1\" class=\"dataframe\">\n",
       "  <thead>\n",
       "    <tr style=\"text-align: right;\">\n",
       "      <th></th>\n",
       "      <th>0</th>\n",
       "      <th>1</th>\n",
       "      <th>2</th>\n",
       "      <th>3</th>\n",
       "      <th>4</th>\n",
       "      <th>5</th>\n",
       "      <th>6</th>\n",
       "      <th>7</th>\n",
       "    </tr>\n",
       "  </thead>\n",
       "  <tbody>\n",
       "    <tr>\n",
       "      <th>0</th>\n",
       "      <td>4</td>\n",
       "      <td>0</td>\n",
       "      <td>4</td>\n",
       "      <td>0</td>\n",
       "      <td>-3</td>\n",
       "      <td>-4</td>\n",
       "      <td>3</td>\n",
       "      <td>1</td>\n",
       "    </tr>\n",
       "    <tr>\n",
       "      <th>1</th>\n",
       "      <td>-2</td>\n",
       "      <td>-4</td>\n",
       "      <td>2</td>\n",
       "      <td>3</td>\n",
       "      <td>-2</td>\n",
       "      <td>2</td>\n",
       "      <td>0</td>\n",
       "      <td>-1</td>\n",
       "    </tr>\n",
       "    <tr>\n",
       "      <th>2</th>\n",
       "      <td>1</td>\n",
       "      <td>3</td>\n",
       "      <td>-3</td>\n",
       "      <td>-4</td>\n",
       "      <td>-3</td>\n",
       "      <td>0</td>\n",
       "      <td>-2</td>\n",
       "      <td>3</td>\n",
       "    </tr>\n",
       "    <tr>\n",
       "      <th>3</th>\n",
       "      <td>0</td>\n",
       "      <td>0</td>\n",
       "      <td>0</td>\n",
       "      <td>-1</td>\n",
       "      <td>1</td>\n",
       "      <td>4</td>\n",
       "      <td>1</td>\n",
       "      <td>0</td>\n",
       "    </tr>\n",
       "    <tr>\n",
       "      <th>4</th>\n",
       "      <td>3</td>\n",
       "      <td>1</td>\n",
       "      <td>4</td>\n",
       "      <td>3</td>\n",
       "      <td>-2</td>\n",
       "      <td>0</td>\n",
       "      <td>3</td>\n",
       "      <td>2</td>\n",
       "    </tr>\n",
       "    <tr>\n",
       "      <th>5</th>\n",
       "      <td>2</td>\n",
       "      <td>2</td>\n",
       "      <td>4</td>\n",
       "      <td>-4</td>\n",
       "      <td>-3</td>\n",
       "      <td>0</td>\n",
       "      <td>-4</td>\n",
       "      <td>0</td>\n",
       "    </tr>\n",
       "  </tbody>\n",
       "</table>\n",
       "</div>"
      ],
      "text/plain": [
       "   0  1  2  3  4  5  6  7\n",
       "0  4  0  4  0 -3 -4  3  1\n",
       "1 -2 -4  2  3 -2  2  0 -1\n",
       "2  1  3 -3 -4 -3  0 -2  3\n",
       "3  0  0  0 -1  1  4  1  0\n",
       "4  3  1  4  3 -2  0  3  2\n",
       "5  2  2  4 -4 -3  0 -4  0"
      ]
     },
     "metadata": {},
     "output_type": "display_data"
    },
    {
     "name": "stdout",
     "output_type": "stream",
     "text": [
      "\n",
      "\n"
     ]
    }
   ],
   "source": [
    "A = np.array([[1, 1, 1, 1, 1, 1, 1, 1], [1, 2, 3, 4, 5, 6, 7, 8],\n",
    "              [1, 3, 6, 10, 15, 21, 28, 36], [1, 4, 10, 20, 35, 56, 84, 120],\n",
    "              [1, 5, 15, 35, 70, 126, 210, 330],\n",
    "              [1, 6, 21, 56, 126, 252, 462, 792],\n",
    "              [1, 7, 28, 84, 210, 462, 924, 1716],\n",
    "              [1, 8, 36, 120, 330, 792, 1716, 3432]])\n",
    "print('A = ' )\n",
    "display_as_dataframe(A)\n",
    "\n",
    "B = np.array([\n",
    "    [11111],\n",
    "    [22222],\n",
    "    [33333],\n",
    "    [44444],\n",
    "    [44444],\n",
    "    [33333],\n",
    "    [22222],\n",
    "    [11111]\n",
    "])\n",
    "print('B^T = ')\n",
    "display_as_dataframe(B.T)\n",
    "\n",
    "C = 10E5\n",
    "print('C = ')\n",
    "print(C)\n",
    "print('\\n')\n",
    "\n",
    "E = np.array([[4, 0, 4, 0, -3, -4, 3, 1], [-2, -4, 2, 3, -2, 2, 0, -1],\n",
    "              [1, 3, -3, -4, -3, 0, -2, 3], [0, 0, 0, -1, 1, 4, 1, 0],\n",
    "              [3, 1, 4, 3, -2, 0, 3, 2], [2, 2, 4, -4, -3, 0, -4, 0]])\n",
    "\n",
    "print('E = ')\n",
    "display_as_dataframe(E)\n",
    "print('\\n')"
   ]
  },
  {
   "cell_type": "code",
   "execution_count": 3,
   "metadata": {},
   "outputs": [
    {
     "name": "stdout",
     "output_type": "stream",
     "text": [
      "Execution Time for schmidt_machine: 1803.5 microseconds\n",
      "P = \n"
     ]
    },
    {
     "data": {
      "text/html": [
       "<div>\n",
       "<style scoped>\n",
       "    .dataframe tbody tr th:only-of-type {\n",
       "        vertical-align: middle;\n",
       "    }\n",
       "\n",
       "    .dataframe tbody tr th {\n",
       "        vertical-align: top;\n",
       "    }\n",
       "\n",
       "    .dataframe thead th {\n",
       "        text-align: right;\n",
       "    }\n",
       "</style>\n",
       "<table border=\"1\" class=\"dataframe\">\n",
       "  <thead>\n",
       "    <tr style=\"text-align: right;\">\n",
       "      <th></th>\n",
       "      <th>0</th>\n",
       "      <th>1</th>\n",
       "      <th>2</th>\n",
       "      <th>3</th>\n",
       "      <th>4</th>\n",
       "      <th>5</th>\n",
       "      <th>6</th>\n",
       "      <th>7</th>\n",
       "    </tr>\n",
       "  </thead>\n",
       "  <tbody>\n",
       "    <tr>\n",
       "      <th>0</th>\n",
       "      <td>0.353553</td>\n",
       "      <td>-0.621937</td>\n",
       "      <td>0.827579</td>\n",
       "      <td>-0.918925</td>\n",
       "      <td>0.700893</td>\n",
       "      <td>-0.350573</td>\n",
       "      <td>0.117650</td>\n",
       "      <td>-0.024271</td>\n",
       "    </tr>\n",
       "    <tr>\n",
       "      <th>1</th>\n",
       "      <td>0.353553</td>\n",
       "      <td>-0.520175</td>\n",
       "      <td>0.489399</td>\n",
       "      <td>-0.124726</td>\n",
       "      <td>-0.483267</td>\n",
       "      <td>0.694842</td>\n",
       "      <td>-0.447862</td>\n",
       "      <td>0.151017</td>\n",
       "    </tr>\n",
       "    <tr>\n",
       "      <th>2</th>\n",
       "      <td>0.353553</td>\n",
       "      <td>-0.418413</td>\n",
       "      <td>0.227293</td>\n",
       "      <td>0.213274</td>\n",
       "      <td>-0.356596</td>\n",
       "      <td>-0.204861</td>\n",
       "      <td>0.612446</td>\n",
       "      <td>-0.407745</td>\n",
       "    </tr>\n",
       "    <tr>\n",
       "      <th>3</th>\n",
       "      <td>0.353553</td>\n",
       "      <td>-0.316650</td>\n",
       "      <td>0.041262</td>\n",
       "      <td>0.238141</td>\n",
       "      <td>0.085604</td>\n",
       "      <td>-0.396740</td>\n",
       "      <td>-0.204580</td>\n",
       "      <td>0.617795</td>\n",
       "    </tr>\n",
       "    <tr>\n",
       "      <th>4</th>\n",
       "      <td>0.353553</td>\n",
       "      <td>-0.214888</td>\n",
       "      <td>-0.068693</td>\n",
       "      <td>0.092940</td>\n",
       "      <td>0.275758</td>\n",
       "      <td>0.124859</td>\n",
       "      <td>-0.354996</td>\n",
       "      <td>-0.566312</td>\n",
       "    </tr>\n",
       "    <tr>\n",
       "      <th>5</th>\n",
       "      <td>0.353553</td>\n",
       "      <td>-0.113126</td>\n",
       "      <td>-0.102574</td>\n",
       "      <td>-0.079266</td>\n",
       "      <td>0.074012</td>\n",
       "      <td>0.325073</td>\n",
       "      <td>0.447010</td>\n",
       "      <td>0.313650</td>\n",
       "    </tr>\n",
       "    <tr>\n",
       "      <th>6</th>\n",
       "      <td>0.353553</td>\n",
       "      <td>-0.011363</td>\n",
       "      <td>-0.060380</td>\n",
       "      <td>-0.135411</td>\n",
       "      <td>-0.231764</td>\n",
       "      <td>-0.264725</td>\n",
       "      <td>-0.203941</td>\n",
       "      <td>-0.097082</td>\n",
       "    </tr>\n",
       "    <tr>\n",
       "      <th>7</th>\n",
       "      <td>0.353553</td>\n",
       "      <td>0.090399</td>\n",
       "      <td>0.057889</td>\n",
       "      <td>0.067569</td>\n",
       "      <td>0.074024</td>\n",
       "      <td>0.059848</td>\n",
       "      <td>0.034687</td>\n",
       "      <td>0.012944</td>\n",
       "    </tr>\n",
       "  </tbody>\n",
       "</table>\n",
       "</div>"
      ],
      "text/plain": [
       "          0         1         2         3         4         5         6  \\\n",
       "0  0.353553 -0.621937  0.827579 -0.918925  0.700893 -0.350573  0.117650   \n",
       "1  0.353553 -0.520175  0.489399 -0.124726 -0.483267  0.694842 -0.447862   \n",
       "2  0.353553 -0.418413  0.227293  0.213274 -0.356596 -0.204861  0.612446   \n",
       "3  0.353553 -0.316650  0.041262  0.238141  0.085604 -0.396740 -0.204580   \n",
       "4  0.353553 -0.214888 -0.068693  0.092940  0.275758  0.124859 -0.354996   \n",
       "5  0.353553 -0.113126 -0.102574 -0.079266  0.074012  0.325073  0.447010   \n",
       "6  0.353553 -0.011363 -0.060380 -0.135411 -0.231764 -0.264725 -0.203941   \n",
       "7  0.353553  0.090399  0.057889  0.067569  0.074024  0.059848  0.034687   \n",
       "\n",
       "          7  \n",
       "0 -0.024271  \n",
       "1  0.151017  \n",
       "2 -0.407745  \n",
       "3  0.617795  \n",
       "4 -0.566312  \n",
       "5  0.313650  \n",
       "6 -0.097082  \n",
       "7  0.012944  "
      ]
     },
     "metadata": {},
     "output_type": "display_data"
    }
   ],
   "source": [
    "P = schmidt_machine(A, A)\n",
    "print('P = ')\n",
    "display_as_dataframe(P)"
   ]
  },
  {
   "cell_type": "markdown",
   "metadata": {},
   "source": [
    "Resposta Questão 1. Item (ii):"
   ]
  },
  {
   "cell_type": "code",
   "execution_count": 4,
   "metadata": {},
   "outputs": [
    {
     "name": "stdout",
     "output_type": "stream",
     "text": [
      "D = \n"
     ]
    },
    {
     "data": {
      "text/html": [
       "<div>\n",
       "<style scoped>\n",
       "    .dataframe tbody tr th:only-of-type {\n",
       "        vertical-align: middle;\n",
       "    }\n",
       "\n",
       "    .dataframe tbody tr th {\n",
       "        vertical-align: top;\n",
       "    }\n",
       "\n",
       "    .dataframe thead th {\n",
       "        text-align: right;\n",
       "    }\n",
       "</style>\n",
       "<table border=\"1\" class=\"dataframe\">\n",
       "  <thead>\n",
       "    <tr style=\"text-align: right;\">\n",
       "      <th></th>\n",
       "      <th>0</th>\n",
       "      <th>1</th>\n",
       "      <th>2</th>\n",
       "      <th>3</th>\n",
       "      <th>4</th>\n",
       "      <th>5</th>\n",
       "      <th>6</th>\n",
       "      <th>7</th>\n",
       "    </tr>\n",
       "  </thead>\n",
       "  <tbody>\n",
       "    <tr>\n",
       "      <th>0</th>\n",
       "      <td>1608.625</td>\n",
       "      <td>0.000000</td>\n",
       "      <td>0.000000</td>\n",
       "      <td>0.000000</td>\n",
       "      <td>0.00000</td>\n",
       "      <td>0.000000</td>\n",
       "      <td>0.000000</td>\n",
       "      <td>0.00000</td>\n",
       "    </tr>\n",
       "    <tr>\n",
       "      <th>1</th>\n",
       "      <td>0.000</td>\n",
       "      <td>27.437515</td>\n",
       "      <td>0.000000</td>\n",
       "      <td>0.000000</td>\n",
       "      <td>0.00000</td>\n",
       "      <td>0.000000</td>\n",
       "      <td>0.000000</td>\n",
       "      <td>0.00000</td>\n",
       "    </tr>\n",
       "    <tr>\n",
       "      <th>2</th>\n",
       "      <td>0.000</td>\n",
       "      <td>0.000000</td>\n",
       "      <td>3.871581</td>\n",
       "      <td>0.000000</td>\n",
       "      <td>0.00000</td>\n",
       "      <td>0.000000</td>\n",
       "      <td>0.000000</td>\n",
       "      <td>0.00000</td>\n",
       "    </tr>\n",
       "    <tr>\n",
       "      <th>3</th>\n",
       "      <td>0.000</td>\n",
       "      <td>0.000000</td>\n",
       "      <td>0.000000</td>\n",
       "      <td>1.523812</td>\n",
       "      <td>0.00000</td>\n",
       "      <td>0.000000</td>\n",
       "      <td>0.000000</td>\n",
       "      <td>0.00000</td>\n",
       "    </tr>\n",
       "    <tr>\n",
       "      <th>4</th>\n",
       "      <td>0.000</td>\n",
       "      <td>0.000000</td>\n",
       "      <td>0.000000</td>\n",
       "      <td>0.000000</td>\n",
       "      <td>0.48821</td>\n",
       "      <td>0.000000</td>\n",
       "      <td>0.000000</td>\n",
       "      <td>0.00000</td>\n",
       "    </tr>\n",
       "    <tr>\n",
       "      <th>5</th>\n",
       "      <td>0.000</td>\n",
       "      <td>0.000000</td>\n",
       "      <td>0.000000</td>\n",
       "      <td>0.000000</td>\n",
       "      <td>0.00000</td>\n",
       "      <td>0.081486</td>\n",
       "      <td>0.000000</td>\n",
       "      <td>0.00000</td>\n",
       "    </tr>\n",
       "    <tr>\n",
       "      <th>6</th>\n",
       "      <td>0.000</td>\n",
       "      <td>0.000000</td>\n",
       "      <td>0.000000</td>\n",
       "      <td>0.000000</td>\n",
       "      <td>0.00000</td>\n",
       "      <td>0.000000</td>\n",
       "      <td>0.006705</td>\n",
       "      <td>0.00000</td>\n",
       "    </tr>\n",
       "    <tr>\n",
       "      <th>7</th>\n",
       "      <td>0.000</td>\n",
       "      <td>0.000000</td>\n",
       "      <td>0.000000</td>\n",
       "      <td>0.000000</td>\n",
       "      <td>0.00000</td>\n",
       "      <td>0.000000</td>\n",
       "      <td>0.000000</td>\n",
       "      <td>0.00022</td>\n",
       "    </tr>\n",
       "  </tbody>\n",
       "</table>\n",
       "</div>"
      ],
      "text/plain": [
       "          0          1         2         3        4         5         6  \\\n",
       "0  1608.625   0.000000  0.000000  0.000000  0.00000  0.000000  0.000000   \n",
       "1     0.000  27.437515  0.000000  0.000000  0.00000  0.000000  0.000000   \n",
       "2     0.000   0.000000  3.871581  0.000000  0.00000  0.000000  0.000000   \n",
       "3     0.000   0.000000  0.000000  1.523812  0.00000  0.000000  0.000000   \n",
       "4     0.000   0.000000  0.000000  0.000000  0.48821  0.000000  0.000000   \n",
       "5     0.000   0.000000  0.000000  0.000000  0.00000  0.081486  0.000000   \n",
       "6     0.000   0.000000  0.000000  0.000000  0.00000  0.000000  0.006705   \n",
       "7     0.000   0.000000  0.000000  0.000000  0.00000  0.000000  0.000000   \n",
       "\n",
       "         7  \n",
       "0  0.00000  \n",
       "1  0.00000  \n",
       "2  0.00000  \n",
       "3  0.00000  \n",
       "4  0.00000  \n",
       "5  0.00000  \n",
       "6  0.00000  \n",
       "7  0.00022  "
      ]
     },
     "metadata": {},
     "output_type": "display_data"
    }
   ],
   "source": [
    "D = (P.T @ A) @ P\n",
    "D = set_zero_if_below_tolerance(D)\n",
    "print('D = ')\n",
    "display_as_dataframe(D)"
   ]
  },
  {
   "cell_type": "markdown",
   "metadata": {},
   "source": [
    "Resposta Questão 1. Item (iii):"
   ]
  },
  {
   "cell_type": "code",
   "execution_count": 5,
   "metadata": {},
   "outputs": [
    {
     "data": {
      "text/plain": [
       "'PD'"
      ]
     },
     "execution_count": 5,
     "metadata": {},
     "output_type": "execute_result"
    }
   ],
   "source": [
    "classify_diagonal(D)"
   ]
  },
  {
   "cell_type": "markdown",
   "metadata": {},
   "source": [
    "Resposta Questão 1. Item (iv):"
   ]
  },
  {
   "cell_type": "code",
   "execution_count": 6,
   "metadata": {},
   "outputs": [
    {
     "data": {
      "text/html": [
       "<div>\n",
       "<style scoped>\n",
       "    .dataframe tbody tr th:only-of-type {\n",
       "        vertical-align: middle;\n",
       "    }\n",
       "\n",
       "    .dataframe tbody tr th {\n",
       "        vertical-align: top;\n",
       "    }\n",
       "\n",
       "    .dataframe thead th {\n",
       "        text-align: right;\n",
       "    }\n",
       "</style>\n",
       "<table border=\"1\" class=\"dataframe\">\n",
       "  <thead>\n",
       "    <tr style=\"text-align: right;\">\n",
       "      <th></th>\n",
       "      <th>0</th>\n",
       "      <th>1</th>\n",
       "      <th>2</th>\n",
       "      <th>3</th>\n",
       "      <th>4</th>\n",
       "    </tr>\n",
       "  </thead>\n",
       "  <tbody>\n",
       "    <tr>\n",
       "      <th>0</th>\n",
       "      <td>1</td>\n",
       "      <td>1</td>\n",
       "      <td>1</td>\n",
       "      <td>1</td>\n",
       "      <td>1</td>\n",
       "    </tr>\n",
       "    <tr>\n",
       "      <th>1</th>\n",
       "      <td>1</td>\n",
       "      <td>2</td>\n",
       "      <td>3</td>\n",
       "      <td>4</td>\n",
       "      <td>5</td>\n",
       "    </tr>\n",
       "    <tr>\n",
       "      <th>2</th>\n",
       "      <td>1</td>\n",
       "      <td>3</td>\n",
       "      <td>6</td>\n",
       "      <td>10</td>\n",
       "      <td>15</td>\n",
       "    </tr>\n",
       "    <tr>\n",
       "      <th>3</th>\n",
       "      <td>1</td>\n",
       "      <td>4</td>\n",
       "      <td>10</td>\n",
       "      <td>20</td>\n",
       "      <td>35</td>\n",
       "    </tr>\n",
       "    <tr>\n",
       "      <th>4</th>\n",
       "      <td>1</td>\n",
       "      <td>5</td>\n",
       "      <td>15</td>\n",
       "      <td>35</td>\n",
       "      <td>70</td>\n",
       "    </tr>\n",
       "  </tbody>\n",
       "</table>\n",
       "</div>"
      ],
      "text/plain": [
       "   0  1   2   3   4\n",
       "0  1  1   1   1   1\n",
       "1  1  2   3   4   5\n",
       "2  1  3   6  10  15\n",
       "3  1  4  10  20  35\n",
       "4  1  5  15  35  70"
      ]
     },
     "metadata": {},
     "output_type": "display_data"
    }
   ],
   "source": [
    "S = A[:5, :5]\n",
    "display_as_dataframe(S)"
   ]
  },
  {
   "cell_type": "code",
   "execution_count": 7,
   "metadata": {},
   "outputs": [
    {
     "name": "stdout",
     "output_type": "stream",
     "text": [
      "Execution Time for determinant_with_pivoting: 172.0 microseconds\n",
      "determinant is:  1.0\n"
     ]
    }
   ],
   "source": [
    "det = determinant_with_pivoting(S)\n",
    "print('determinant is: ', det)"
   ]
  },
  {
   "cell_type": "code",
   "execution_count": 8,
   "metadata": {},
   "outputs": [
    {
     "name": "stdout",
     "output_type": "stream",
     "text": [
      "Execution Time for determinant_with_numpy: 149.5 microseconds\n",
      "determinant is:  0.9999999999999998\n"
     ]
    }
   ],
   "source": [
    "det2 = determinant_with_numpy(S)\n",
    "print('determinant is: ', det2)"
   ]
  },
  {
   "cell_type": "code",
   "execution_count": 9,
   "metadata": {},
   "outputs": [
    {
     "name": "stdout",
     "output_type": "stream",
     "text": [
      "Execution Time for determinant_with_pivoting: 277.1 microseconds\n",
      "determinant is:  1.0\n"
     ]
    }
   ],
   "source": [
    "det = determinant_with_pivoting(A)\n",
    "print('determinant is: ', det)"
   ]
  },
  {
   "cell_type": "code",
   "execution_count": 10,
   "metadata": {},
   "outputs": [
    {
     "name": "stdout",
     "output_type": "stream",
     "text": [
      "Execution Time for determinant_with_numpy: 74.1 microseconds\n",
      "determinant is:  1.0000000000159348\n"
     ]
    }
   ],
   "source": [
    "det = determinant_with_numpy(A)\n",
    "print('determinant is: ', det)"
   ]
  },
  {
   "cell_type": "markdown",
   "metadata": {},
   "source": [
    "Resposta Questão 1. Item (v):"
   ]
  },
  {
   "cell_type": "markdown",
   "metadata": {},
   "source": [
    "Como o caráter de A é PD, o caráter de S que é uma submatriz de A também deve ser PD"
   ]
  },
  {
   "cell_type": "code",
   "execution_count": 11,
   "metadata": {},
   "outputs": [
    {
     "data": {
      "image/png": "[encoded data removed]",
      "text/plain": [
       "<Figure size 640x480 with 1 Axes>"
      ]
     },
     "metadata": {},
     "output_type": "display_data"
    }
   ],
   "source": [
    "LAMBDA_MIN = 0\n",
    "LAMBDA_MAX = 1000\n",
    "\n",
    "# Create the identity matrix\n",
    "I = np.eye(S.shape[0])\n",
    "\n",
    "# Define a range of positive real values for lambda\n",
    "positive_lambdas = np.linspace(LAMBDA_MIN, LAMBDA_MAX, 10000)\n",
    "\n",
    "# Calculate theta for each lambda\n",
    "theta_values = []\n",
    "for lambd in positive_lambdas:\n",
    "    # Compute determinant(S - lambda*I)\n",
    "    num = np.linalg.det(S - lambd * I)\n",
    "    # Compute determinant(S)\n",
    "    den = np.linalg.det(S)\n",
    "    # Compute theta\n",
    "    theta = num / den\n",
    "    theta_values.append(theta)\n",
    "\n",
    "# Plot lambda vs theta\n",
    "plt.plot(positive_lambdas, theta_values)\n",
    "plt.xlabel('Lambda')\n",
    "plt.ylabel('Theta')\n",
    "plt.title('Lambda vs Theta')\n",
    "plt.grid(True)\n",
    "plt.axhline(0, color='red', linestyle='--')\n",
    "plt.show()"
   ]
  },
  {
   "cell_type": "code",
   "execution_count": 12,
   "metadata": {},
   "outputs": [
    {
     "data": {
      "image/png": "[encoded data removed]",
      "text/plain": [
       "<Figure size 640x480 with 1 Axes>"
      ]
     },
     "metadata": {},
     "output_type": "display_data"
    }
   ],
   "source": [
    "LAMBDA_MIN = 0\n",
    "LAMBDA_MAX = 0.1\n",
    "\n",
    "# Create the identity matrix\n",
    "I = np.eye(S.shape[0])\n",
    "\n",
    "# Define a range of positive real values for lambda\n",
    "positive_lambdas = np.linspace(LAMBDA_MIN, LAMBDA_MAX, 10000)\n",
    "\n",
    "# Calculate theta for each lambda\n",
    "theta_values = []\n",
    "for lambd in positive_lambdas:\n",
    "    # Compute determinant(S - lambda*I)\n",
    "    num = np.linalg.det(S - lambd * I)\n",
    "    # Compute determinant(S)\n",
    "    den = np.linalg.det(S)\n",
    "    # Compute theta\n",
    "    theta = num / den\n",
    "    theta_values.append(theta)\n",
    "\n",
    "# Plot lambda vs theta\n",
    "plt.plot(positive_lambdas, theta_values)\n",
    "plt.xlabel('Lambda')\n",
    "plt.ylabel('Theta')\n",
    "plt.title('Lambda vs Theta')\n",
    "plt.grid(True)\n",
    "plt.axhline(0, color='red', linestyle='--')\n",
    "plt.show()"
   ]
  },
  {
   "cell_type": "code",
   "execution_count": 13,
   "metadata": {},
   "outputs": [
    {
     "data": {
      "image/png": "[encoded data removed]",
      "text/plain": [
       "<Figure size 640x480 with 1 Axes>"
      ]
     },
     "metadata": {},
     "output_type": "display_data"
    }
   ],
   "source": [
    "LAMBDA_MIN = 0.1\n",
    "LAMBDA_MAX = 0.5\n",
    "\n",
    "# Create the identity matrix\n",
    "I = np.eye(S.shape[0])\n",
    "\n",
    "# Define a range of positive real values for lambda\n",
    "positive_lambdas = np.linspace(LAMBDA_MIN, LAMBDA_MAX, 10000)\n",
    "\n",
    "# Calculate theta for each lambda\n",
    "theta_values = []\n",
    "for lambd in positive_lambdas:\n",
    "    # Compute determinant(S - lambda*I)\n",
    "    num = np.linalg.det(S - lambd * I)\n",
    "    # Compute determinant(S)\n",
    "    den = np.linalg.det(S)\n",
    "    # Compute theta\n",
    "    theta = num / den\n",
    "    theta_values.append(theta)\n",
    "\n",
    "# Plot lambda vs theta\n",
    "plt.plot(positive_lambdas, theta_values)\n",
    "plt.xlabel('Lambda')\n",
    "plt.ylabel('Theta')\n",
    "plt.title('Lambda vs Theta')\n",
    "plt.grid(True)\n",
    "plt.axhline(0, color='red', linestyle='--')\n",
    "plt.show()"
   ]
  },
  {
   "cell_type": "code",
   "execution_count": 14,
   "metadata": {},
   "outputs": [
    {
     "data": {
      "image/png": "[encoded data removed]",
      "text/plain": [
       "<Figure size 640x480 with 1 Axes>"
      ]
     },
     "metadata": {},
     "output_type": "display_data"
    }
   ],
   "source": [
    "LAMBDA_MIN = 0.5\n",
    "LAMBDA_MAX = 2\n",
    "\n",
    "# Create the identity matrix\n",
    "I = np.eye(S.shape[0])\n",
    "\n",
    "# Define a range of positive real values for lambda\n",
    "positive_lambdas = np.linspace(LAMBDA_MIN, LAMBDA_MAX, 10000)\n",
    "\n",
    "# Calculate theta for each lambda\n",
    "theta_values = []\n",
    "for lambd in positive_lambdas:\n",
    "    # Compute determinant(S - lambda*I)\n",
    "    num = np.linalg.det(S - lambd * I)\n",
    "    # Compute determinant(S)\n",
    "    den = np.linalg.det(S)\n",
    "    # Compute theta\n",
    "    theta = num / den\n",
    "    theta_values.append(theta)\n",
    "\n",
    "# Plot lambda vs theta\n",
    "plt.plot(positive_lambdas, theta_values)\n",
    "plt.xlabel('Lambda')\n",
    "plt.ylabel('Theta')\n",
    "plt.title('Lambda vs Theta')\n",
    "plt.grid(True)\n",
    "plt.axhline(0, color='red', linestyle='--')\n",
    "plt.show()"
   ]
  },
  {
   "cell_type": "code",
   "execution_count": 15,
   "metadata": {},
   "outputs": [
    {
     "data": {
      "image/png": "[encoded data removed]",
      "text/plain": [
       "<Figure size 640x480 with 1 Axes>"
      ]
     },
     "metadata": {},
     "output_type": "display_data"
    }
   ],
   "source": [
    "LAMBDA_MIN = 2\n",
    "LAMBDA_MAX = 8\n",
    "\n",
    "# Create the identity matrix\n",
    "I = np.eye(S.shape[0])\n",
    "\n",
    "# Define a range of positive real values for lambda\n",
    "positive_lambdas = np.linspace(LAMBDA_MIN, LAMBDA_MAX, 10000)\n",
    "\n",
    "# Calculate theta for each lambda\n",
    "theta_values = []\n",
    "for lambd in positive_lambdas:\n",
    "    # Compute determinant(S - lambda*I)\n",
    "    num = np.linalg.det(S - lambd * I)\n",
    "    # Compute determinant(S)\n",
    "    den = np.linalg.det(S)\n",
    "    # Compute theta\n",
    "    theta = num / den\n",
    "    theta_values.append(theta)\n",
    "\n",
    "# Plot lambda vs theta\n",
    "plt.plot(positive_lambdas, theta_values)\n",
    "plt.xlabel('Lambda')\n",
    "plt.ylabel('Theta')\n",
    "plt.title('Lambda vs Theta')\n",
    "plt.grid(True)\n",
    "plt.axhline(0, color='red', linestyle='--')\n",
    "plt.show()"
   ]
  },
  {
   "cell_type": "code",
   "execution_count": 16,
   "metadata": {},
   "outputs": [
    {
     "data": {
      "image/png": "[encoded data removed]",
      "text/plain": [
       "<Figure size 640x480 with 1 Axes>"
      ]
     },
     "metadata": {},
     "output_type": "display_data"
    }
   ],
   "source": [
    "LAMBDA_MIN = 80\n",
    "LAMBDA_MAX = 100\n",
    "\n",
    "# Create the identity matrix\n",
    "I = np.eye(S.shape[0])\n",
    "\n",
    "# Define a range of positive real values for lambda\n",
    "positive_lambdas = np.linspace(LAMBDA_MIN, LAMBDA_MAX, 10000)\n",
    "\n",
    "# Calculate theta for each lambda\n",
    "theta_values = []\n",
    "for lambd in positive_lambdas:\n",
    "    # Compute determinant(S - lambda*I)\n",
    "    num = np.linalg.det(S - lambd * I)\n",
    "    # Compute determinant(S)\n",
    "    den = np.linalg.det(S)\n",
    "    # Compute theta\n",
    "    theta = num / den\n",
    "    theta_values.append(theta)\n",
    "\n",
    "# Plot lambda vs theta\n",
    "plt.plot(positive_lambdas, theta_values)\n",
    "plt.xlabel('Lambda')\n",
    "plt.ylabel('Theta')\n",
    "plt.title('Lambda vs Theta')\n",
    "plt.grid(True)\n",
    "plt.axhline(0, color='red', linestyle='--')\n",
    "plt.show()"
   ]
  },
  {
   "cell_type": "code",
   "execution_count": 20,
   "metadata": {},
   "outputs": [
    {
     "name": "stdout",
     "output_type": "stream",
     "text": [
      "Eigenvalues in ascending order: ['0.01', '0.18', '1.00', '5.52', '92.29']\n"
     ]
    }
   ],
   "source": [
    "# Find eigenvalues\n",
    "eigenvalues = np.linalg.eigvals(S)\n",
    "\n",
    "# Format eigenvalues as decimals\n",
    "formatted_eigenvalues = [\"{:.2f}\".format(e) for e in eigenvalues]\n",
    "\n",
    "# Sort eigenvalues in ascending order\n",
    "sorted_eigenvalues = sorted(formatted_eigenvalues, key=float)\n",
    "\n",
    "print(\"Eigenvalues in ascending order:\", sorted_eigenvalues)"
   ]
  }
 ],
 "metadata": {
  "kernelspec": {
   "display_name": "Python 3",
   "language": "python",
   "name": "python3"
  },
  "language_info": {
   "codemirror_mode": {
    "name": "ipython",
    "version": 3
   },
   "file_extension": ".py",
   "mimetype": "text/x-python",
   "name": "python",
   "nbconvert_exporter": "python",
   "pygments_lexer": "ipython3",
   "version": "3.11.1"
  }
 },
 "nbformat": 4,
 "nbformat_minor": 2
}
