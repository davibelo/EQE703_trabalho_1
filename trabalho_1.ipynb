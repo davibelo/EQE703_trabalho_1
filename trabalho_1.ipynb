{
 "cells": [
  {
   "cell_type": "markdown",
   "metadata": {},
   "source": [
    "Métodos Matemáticos Aplicados  EQE-703 1/2024    11/05/2024   J.Luiz <br>\n",
    "Trabalho 1 : Matrizes, Sistemas Lineares, Formas Quadráticas, Autovetores e Autovalores <br> \n",
    "Questão 1 (6 Pontos; itens de igual valor) <br>"
   ]
  },
  {
   "cell_type": "code",
   "execution_count": 1,
   "metadata": {},
   "outputs": [],
   "source": [
    "import numpy as np"
   ]
  },
  {
   "cell_type": "markdown",
   "metadata": {},
   "source": [
    "(i) Desenvolver programa para aplicar o Processo Schmidt à matriz A de modo produzir a base \n",
    " | P1 P2 P3 P4 P5 P6 P7 P8 | de vetores conjugados por A."
   ]
  },
  {
   "cell_type": "code",
   "execution_count": 2,
   "metadata": {},
   "outputs": [
    {
     "name": "stdout",
     "output_type": "stream",
     "text": [
      "A = \n",
      "[[   1    1    1    1    1    1    1    1]\n",
      " [   1    2    3    4    5    6    7    8]\n",
      " [   1    3    6   10   15   21   28   36]\n",
      " [   1    4   10   20   35   56   84  120]\n",
      " [   1    5   15   35   70  126  210  330]\n",
      " [   1    6   21   56  126  252  462  792]\n",
      " [   1    7   28   84  210  462  924 1716]\n",
      " [   1    8   36  120  330  792 1716 3432]]\n",
      "\n",
      "\n",
      "B^T = \n",
      "[[11111 22222 33333 44444 44444 33333 22222 11111]]\n",
      "\n",
      "\n",
      "C = \n",
      "1000000.0\n",
      "\n",
      "\n",
      "E = \n",
      "[[ 4  0  4  0 -3 -4  3  1]\n",
      " [-2 -4  2  3 -2  2  0 -1]\n",
      " [ 1  3 -3 -4 -3  0 -2  3]\n",
      " [ 0  0  0 -1  1  4  1  0]\n",
      " [ 3  1  4  3 -2  0  3  2]\n",
      " [ 2  2  4 -4 -3  0 -4  0]]\n",
      "\n",
      "\n"
     ]
    }
   ],
   "source": [
    "A = np.array([[1, 1, 1, 1, 1, 1, 1, 1], [1, 2, 3, 4, 5, 6, 7, 8],\n",
    "              [1, 3, 6, 10, 15, 21, 28, 36], [1, 4, 10, 20, 35, 56, 84, 120],\n",
    "              [1, 5, 15, 35, 70, 126, 210, 330],\n",
    "              [1, 6, 21, 56, 126, 252, 462, 792],\n",
    "              [1, 7, 28, 84, 210, 462, 924, 1716],\n",
    "              [1, 8, 36, 120, 330, 792, 1716, 3432]])\n",
    "print('A = ' )\n",
    "print(A)\n",
    "print('\\n')\n",
    "\n",
    "B = np.array([\n",
    "    [11111],\n",
    "    [22222],\n",
    "    [33333],\n",
    "    [44444],\n",
    "    [44444],\n",
    "    [33333],\n",
    "    [22222],\n",
    "    [11111]\n",
    "])\n",
    "print('B^T = ')\n",
    "print(B.T)\n",
    "print('\\n')\n",
    "\n",
    "C = 10E5\n",
    "print('C = ')\n",
    "print(C)\n",
    "print('\\n')\n",
    "\n",
    "E = np.array([[4, 0, 4, 0, -3, -4, 3, 1], [-2, -4, 2, 3, -2, 2, 0, -1],\n",
    "              [1, 3, -3, -4, -3, 0, -2, 3], [0, 0, 0, -1, 1, 4, 1, 0],\n",
    "              [3, 1, 4, 3, -2, 0, 3, 2], [2, 2, 4, -4, -3, 0, -4, 0]])\n",
    "\n",
    "print('E = ')\n",
    "print(E)\n",
    "print('\\n')"
   ]
  },
  {
   "cell_type": "code",
   "execution_count": 3,
   "metadata": {},
   "outputs": [],
   "source": [
    "def schmidt_machine(W):\n",
    "    \"\"\"Applies the Schmidt process to matrix A to orthogonalize its columns vectors.\"\"\"\n",
    "\n",
    "    # Grant elements as float\n",
    "    W = W.astype(float)\n",
    "\n",
    "    # Number of vectors (columns)\n",
    "    n = W.shape[1]\n",
    "\n",
    "    # Initialize the orthogonal matrix with zeros\n",
    "    P = np.zeros_like(W)\n",
    "\n",
    "    # Make P0 = W0\n",
    "    P0 = W[:, 0]\n",
    "    P[:, 0] = P0\n",
    "\n",
    "    # Loop to calculate P1, P2, ..., Pn-1\n",
    "    for k in range(1, n):\n",
    "        # Start with Wk\n",
    "        Pk = W[:, k]\n",
    "\n",
    "        # Subtract the projections of Wk onto all previous Pi (i < k)\n",
    "        for i in range(k):\n",
    "            Pi = P[:, i]\n",
    "            Wk = W[:, k]\n",
    "            alpha = -(Pi.T @ Wk) / (Pi.T @ Pi)\n",
    "            Pk += alpha * Pi\n",
    "\n",
    "        # Set the calculated Pi into the ith column of P\n",
    "        P[:, k] = Pk\n",
    "\n",
    "    for i in range(P.shape[1]):  # Iterate over columns\n",
    "        vector = P[:, i]\n",
    "        norm = np.linalg.norm(vector)\n",
    "        if norm != 0:\n",
    "            P[:, i] = vector / norm\n",
    "\n",
    "    return P"
   ]
  },
  {
   "cell_type": "code",
   "execution_count": 4,
   "metadata": {},
   "outputs": [
    {
     "name": "stdout",
     "output_type": "stream",
     "text": [
      "P = \n",
      "[[ 0.35355339 -0.54006172  0.54006172 -0.43082022  0.28203804 -0.14978617\n",
      "   0.06154575 -0.01706972]\n",
      " [ 0.35355339 -0.38575837  0.07715167  0.30772873 -0.52378493  0.49215457\n",
      "  -0.30772873  0.11948803]\n",
      " [ 0.35355339 -0.23145502 -0.23145502  0.43082022 -0.12087344 -0.36376642\n",
      "   0.55391171 -0.35846409]\n",
      " [ 0.35355339 -0.07715167 -0.38575837  0.18463724  0.36262033 -0.32097037\n",
      "  -0.30772873  0.59744015]\n",
      " [ 0.35355339  0.07715167 -0.38575837 -0.18463724  0.36262033  0.32097037\n",
      "  -0.30772873 -0.59744015]\n",
      " [ 0.35355339  0.23145502 -0.23145502 -0.43082022 -0.12087344  0.36376642\n",
      "   0.55391171  0.35846409]\n",
      " [ 0.35355339  0.38575837  0.07715167 -0.30772873 -0.52378493 -0.49215457\n",
      "  -0.30772873 -0.11948803]\n",
      " [ 0.35355339  0.54006172  0.54006172  0.43082022  0.28203804  0.14978617\n",
      "   0.06154575  0.01706972]]\n"
     ]
    }
   ],
   "source": [
    "P = schmidt_machine(A)\n",
    "print('P = ')\n",
    "print(P)"
   ]
  },
  {
   "cell_type": "code",
   "execution_count": 5,
   "metadata": {},
   "outputs": [],
   "source": [
    "def are_columns_orthogonal(matrix, tolerance=1e-10):\n",
    "    \"\"\"\n",
    "    Checks if the columns of the given matrix are orthogonal to each other within a specified tolerance.\n",
    "\n",
    "    Parameters:\n",
    "    matrix (numpy.ndarray): A 2D NumPy array where each column is a vector.\n",
    "    tolerance (float): The tolerance within which the dot product is considered zero.\n",
    "\n",
    "    Returns:\n",
    "    bool: True if all columns are orthogonal to each other within the specified tolerance, False otherwise.\n",
    "    \"\"\"\n",
    "    num_columns = matrix.shape[1]\n",
    "\n",
    "    for i in range(num_columns):\n",
    "        for j in range(i + 1, num_columns):\n",
    "            dot_product = np.dot(matrix[:, i], matrix[:, j])\n",
    "            if abs(dot_product) > tolerance:\n",
    "                print(f\"Columns {i} and {j} are not orthogonal. Dot product: {dot_product}\")\n",
    "                return False\n",
    "            else:\n",
    "                print(f\"Columns {i} and {j} are orthogonal within tolerance. Dot product: {dot_product}\")\n",
    "\n",
    "    return True"
   ]
  },
  {
   "cell_type": "code",
   "execution_count": 6,
   "metadata": {},
   "outputs": [
    {
     "name": "stdout",
     "output_type": "stream",
     "text": [
      "Columns 0 and 1 are orthogonal within tolerance. Dot product: 0.0\n",
      "Columns 0 and 2 are orthogonal within tolerance. Dot product: -5.551115123125783e-17\n",
      "Columns 0 and 3 are orthogonal within tolerance. Dot product: 0.0\n",
      "Columns 0 and 4 are orthogonal within tolerance. Dot product: 7.216449660063518e-16\n",
      "Columns 0 and 5 are orthogonal within tolerance. Dot product: -1.4710455076283324e-14\n",
      "Columns 0 and 6 are orthogonal within tolerance. Dot product: 6.628031457012185e-14\n",
      "Columns 0 and 7 are orthogonal within tolerance. Dot product: 4.765243755144866e-12\n",
      "Columns 1 and 2 are orthogonal within tolerance. Dot product: 0.0\n",
      "Columns 1 and 3 are orthogonal within tolerance. Dot product: -5.551115123125783e-17\n",
      "Columns 1 and 4 are orthogonal within tolerance. Dot product: 0.0\n",
      "Columns 1 and 5 are orthogonal within tolerance. Dot product: 2.5646151868841116e-14\n",
      "Columns 1 and 6 are orthogonal within tolerance. Dot product: -8.148481889236336e-13\n",
      "Columns 1 and 7 are orthogonal within tolerance. Dot product: 3.3319902392747736e-11\n",
      "Columns 2 and 3 are orthogonal within tolerance. Dot product: 0.0\n",
      "Columns 2 and 4 are orthogonal within tolerance. Dot product: -1.1102230246251565e-15\n",
      "Columns 2 and 5 are orthogonal within tolerance. Dot product: 2.6367796834847468e-14\n",
      "Columns 2 and 6 are orthogonal within tolerance. Dot product: -8.984896160413314e-13\n",
      "Columns 2 and 7 are orthogonal within tolerance. Dot product: 3.230360423600587e-11\n",
      "Columns 3 and 4 are orthogonal within tolerance. Dot product: 0.0\n",
      "Columns 3 and 5 are orthogonal within tolerance. Dot product: -7.91033905045424e-15\n",
      "Columns 3 and 6 are orthogonal within tolerance. Dot product: 4.2288395007972213e-13\n",
      "Columns 3 and 7 are orthogonal within tolerance. Dot product: -1.3987588864949885e-11\n",
      "Columns 4 and 5 are orthogonal within tolerance. Dot product: -2.4424906541753444e-15\n",
      "Columns 4 and 6 are orthogonal within tolerance. Dot product: 9.086481567166516e-14\n",
      "Columns 4 and 7 are orthogonal within tolerance. Dot product: -2.7946117642230206e-12\n",
      "Columns 5 and 6 are orthogonal within tolerance. Dot product: 2.4980018054066022e-15\n",
      "Columns 5 and 7 are orthogonal within tolerance. Dot product: -1.331434962281719e-13\n",
      "Columns 6 and 7 are orthogonal within tolerance. Dot product: 1.8041124150158794e-15\n",
      "True\n"
     ]
    }
   ],
   "source": [
    "print(are_columns_orthogonal(P))"
   ]
  },
  {
   "cell_type": "code",
   "execution_count": 7,
   "metadata": {},
   "outputs": [
    {
     "name": "stdout",
     "output_type": "stream",
     "text": [
      "(8, 8)\n",
      "[[1.60862500e+03 1.83354855e+03 1.02155978e+03 3.36209233e+02\n",
      "  6.56270470e+01 7.13411954e+00 3.69915017e-01 6.03515374e-03]\n",
      " [1.83354855e+03 2.15300595e+03 1.25557738e+03 4.34593407e+02\n",
      "  8.90811319e+01 1.01249295e+01 5.46061093e-01 9.21881635e-03]\n",
      " [1.02155978e+03 1.25557738e+03 7.96458333e+02 3.05267146e+02\n",
      "  6.93481862e+01 8.66553967e+00 5.08074235e-01 9.21876961e-03]\n",
      " [3.36209233e+02 4.34593407e+02 3.05267146e+02 1.35852273e+02\n",
      "  3.64547864e+01 5.33762825e+00 3.59848484e-01 7.35400382e-03]\n",
      " [6.56270470e+01 8.90811319e+01 6.93481862e+01 3.64547864e+01\n",
      "  1.23977273e+01 2.32866980e+00 1.95900151e-01 4.81431490e-03]\n",
      " [7.13411954e+00 1.01249295e+01 8.66553967e+00 5.33762825e+00\n",
      "  2.32866980e+00 6.41483516e-01 7.77004853e-02 2.55680838e-03]\n",
      " [3.69915017e-01 5.46061093e-01 5.08074235e-01 3.59848484e-01\n",
      "  1.95900151e-01 7.77004853e-02 1.89393939e-02 1.05056858e-03]\n",
      " [6.03515374e-03 9.21881635e-03 9.21876961e-03 7.35400382e-03\n",
      "  4.81431490e-03 2.55680838e-03 1.05056858e-03 2.91375292e-04]]\n"
     ]
    }
   ],
   "source": [
    "D = (P.T @ A) @ P\n",
    "print(D.shape)\n",
    "print(D)"
   ]
  }
 ],
 "metadata": {
  "kernelspec": {
   "display_name": "Python 3",
   "language": "python",
   "name": "python3"
  },
  "language_info": {
   "codemirror_mode": {
    "name": "ipython",
    "version": 3
   },
   "file_extension": ".py",
   "mimetype": "text/x-python",
   "name": "python",
   "nbconvert_exporter": "python",
   "pygments_lexer": "ipython3",
   "version": "3.11.1"
  }
 },
 "nbformat": 4,
 "nbformat_minor": 2
}
